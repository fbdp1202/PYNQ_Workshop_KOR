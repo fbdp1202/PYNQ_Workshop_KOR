{
 "cells": [
  {
   "cell_type": "markdown",
   "metadata": {},
   "source": [
    "## PmodOLED 예제\n",
    "\n",
    "## 목차\n",
    "\n",
    "* [개요](#개요)\n",
    "* [보드와 PmodOLED 세팅](#보드와-PmodOLED-세팅)\n",
    "* [PmodOLED에 문자 쓰기](#PmodOLED에-문자-쓰기)\n",
    "* [여러 패턴 그리기](#여러-패턴-그리기)\n",
    "* [새로운 파이썬 함수 만들기](#새로운-파이썬-함수-만들기)\n",
    "* [모두 함께 사용하기](#모두-함께-사용하기)\n",
    "\n",
    "----\n",
    "\n",
    "## 개요\n",
    "이 데모에서는 PYNQ-Z1 또는 PYNQ-Z2 보드를 사용하여 PmodOLED를 사용하는 방법을 보여줍니다.\n",
    "\n",
    "----\n",
    "\n",
    "## 보드와 PmodOLED 세팅\n",
    "### PmodOLED를 보드에 연결하십시오.\n",
    "이 예제에서 ***PmodOLED***은 ***PMODA에 연결되어야합니다.***"
   ]
  },
  {
   "cell_type": "code",
   "execution_count": 1,
   "metadata": {},
   "outputs": [
    {
     "data": {
      "application/javascript": [
       "\n",
       "require(['notebook/js/codecell'], function(codecell) {\n",
       "  codecell.CodeCell.options_default.highlight_modes[\n",
       "      'magic_text/x-csrc'] = {'reg':[/^%%microblaze/]};\n",
       "  Jupyter.notebook.events.one('kernel_ready.Kernel', function(){\n",
       "      Jupyter.notebook.get_cells().map(function(cell){\n",
       "          if (cell.cell_type == 'code'){ cell.auto_highlight(); } }) ;\n",
       "  });\n",
       "});\n"
      ]
     },
     "metadata": {},
     "output_type": "display_data"
    }
   ],
   "source": [
    "from pynq.overlays.base import BaseOverlay\n",
    "base = BaseOverlay(\"base.bit\")"
   ]
  },
  {
   "cell_type": "code",
   "execution_count": 2,
   "metadata": {},
   "outputs": [],
   "source": [
    "from pynq.lib.pmod import Pmod_OLED\n",
    "# Connect to PMODA\n",
    "pmod_oled = Pmod_OLED(base.PMODA)"
   ]
  },
  {
   "cell_type": "markdown",
   "metadata": {
    "collapsed": true
   },
   "source": [
    "## PmodOLED에 문자 쓰기"
   ]
  },
  {
   "cell_type": "code",
   "execution_count": 3,
   "metadata": {},
   "outputs": [],
   "source": [
    "pmod_oled.clear()\n",
    "pmod_oled.write('     Welcome\\n       to\\n      PYNQ!')"
   ]
  },
  {
   "cell_type": "markdown",
   "metadata": {},
   "source": [
    "#### 이제 OLED에서 텍스트 출력을 볼 수 있습니다.\n",
    "\n",
    "다른 메시지도 시도해보기:"
   ]
  },
  {
   "cell_type": "code",
   "execution_count": 4,
   "metadata": {
    "scrolled": true
   },
   "outputs": [],
   "source": [
    "pmod_oled.clear()\n",
    "pmod_oled.write('Python and Zynq\\nProductivity &  performance')"
   ]
  },
  {
   "cell_type": "markdown",
   "metadata": {},
   "source": [
    "확인한 뒤에 디스플레이를 지웁니다."
   ]
  },
  {
   "cell_type": "code",
   "execution_count": 5,
   "metadata": {},
   "outputs": [],
   "source": [
    "pmod_oled.clear()"
   ]
  },
  {
   "cell_type": "markdown",
   "metadata": {},
   "source": [
    "시스템 정보를 캡처하여 파이썬 변수에 저장하고 주변 장치에 쓸 수 있습니다."
   ]
  },
  {
   "cell_type": "code",
   "execution_count": 8,
   "metadata": {},
   "outputs": [],
   "source": [
    "hostname = !hostname\n",
    "ip_addr = !hostname -I\n",
    "pmod_oled.write(hostname[0] + \"\\nIP:\" + ip_addr[0])"
   ]
  },
  {
   "cell_type": "code",
   "execution_count": 9,
   "metadata": {},
   "outputs": [],
   "source": [
    "pmod_oled.clear()"
   ]
  },
  {
   "cell_type": "markdown",
   "metadata": {},
   "source": [
    "----\n",
    "## 여러 패턴 그리기\n",
    "Pmod OLED는 IOP의 C코드에서 실행되는 일부 내장 함수가 포함되어 있습니다.\n",
    "직선과 직사각형을 그리기 위해`draw_line()`,`draw_rectangle()`함수가 제공됩니다.\n",
    "\n",
    "OLED 디스플레이 영역은 32 픽셀 x 128 픽셀입니다.\n",
    "\n",
    "\n",
    "### 선 그리기\n",
    "두 개의 좌표를 지정하여 선을 그릴 수 있습니다. `pmod_oled.draw_line(x1, y1, x2, y2)`\n",
    "다음 셀을 실행하거나 좌표를 변경하고 아래 셀을 실행하여 다른 선을 그릴 수 있습니다.\n",
    "\n",
    "`pmod_oled.clear()`는 이전 라인의 맨 위에 그려지는 라인을 원하지 않는다면 디스플레이를 지우기 위해 호출되어야한다. 비트 스트림이 다시로드되면 디스플레이도 지워집니다."
   ]
  },
  {
   "cell_type": "code",
   "execution_count": 10,
   "metadata": {},
   "outputs": [],
   "source": [
    "pmod_oled.draw_line(0,0,128,32)"
   ]
  },
  {
   "cell_type": "code",
   "execution_count": 11,
   "metadata": {},
   "outputs": [],
   "source": [
    "pmod_oled.draw_line(0,32,128,0)"
   ]
  },
  {
   "cell_type": "code",
   "execution_count": 12,
   "metadata": {},
   "outputs": [],
   "source": [
    "pmod_oled.clear()\n",
    "pmod_oled.draw_line(64,0,64,32)"
   ]
  },
  {
   "cell_type": "markdown",
   "metadata": {},
   "source": [
    "Clear the display when finished. "
   ]
  },
  {
   "cell_type": "code",
   "execution_count": 13,
   "metadata": {},
   "outputs": [],
   "source": [
    "pmod_oled.clear()"
   ]
  },
  {
   "cell_type": "markdown",
   "metadata": {},
   "source": [
    "### 사각형 그리기\n",
    "두 좌표 pmod_oled.draw_line(x1, y1, x2, y2)를 지정하여 비슷한 방법으로 사각형을 그릴 수 있습니다. 두 점을 대각선으로하여 직사각형을 그립니다."
   ]
  },
  {
   "cell_type": "code",
   "execution_count": 14,
   "metadata": {},
   "outputs": [],
   "source": [
    "pmod_oled.draw_rect(60,5,80,25)"
   ]
  },
  {
   "cell_type": "code",
   "execution_count": 15,
   "metadata": {},
   "outputs": [],
   "source": [
    "pmod_oled.draw_rect(105,0,120,28)"
   ]
  },
  {
   "cell_type": "markdown",
   "metadata": {},
   "source": [
    "Clear the display when finished."
   ]
  },
  {
   "cell_type": "code",
   "execution_count": 16,
   "metadata": {},
   "outputs": [],
   "source": [
    "pmod_oled.clear()"
   ]
  },
  {
   "cell_type": "markdown",
   "metadata": {},
   "source": [
    "----\n",
    "## 새로운 파이썬 함수 만들기\n",
    "\n",
    "IOP에서 실행중인 C코드에서 더 많은 기능을 구현하여 다른 패턴을 생성 할 수 있습니다. 기존 기능을 Python으로 확장하여 더 많은 기능을 추가 할 수도 있습니다.\n",
    "\n",
    "다음 셀은 PmodOLED에 원을 그리는 함수를 정의합니다."
   ]
  },
  {
   "cell_type": "code",
   "execution_count": 17,
   "metadata": {},
   "outputs": [],
   "source": [
    "import math\n",
    "# Draw a circle\n",
    "# Screen resolution is 128x32\n",
    "def draw_circle(cx,cy, r):\n",
    "    for i in range (0, 360):\n",
    "        x = cx + r * math.cos(i*math.pi/180)\n",
    "        if(x > 127):\n",
    "            x = 127\n",
    "        if(x<0):\n",
    "            x = 0\n",
    "        y = cy + r * math.sin(i*math.pi/180)\n",
    "        if(y>31):\n",
    "            y = 31\n",
    "        if(y<0):\n",
    "            y = 0\n",
    "        pmod_oled.draw_line(int(x),int(y),int(x+1),int(y))"
   ]
  },
  {
   "cell_type": "markdown",
   "metadata": {},
   "source": [
    "### 원 그리기\n",
    "방금 생성 된 함수를 사용하고 좌표와 반지름을 지정하여 원을 그릴 수 있습니다."
   ]
  },
  {
   "cell_type": "code",
   "execution_count": 18,
   "metadata": {},
   "outputs": [],
   "source": [
    "pmod_oled.clear()\n",
    "draw_circle(64,16,15)"
   ]
  },
  {
   "cell_type": "markdown",
   "metadata": {},
   "source": [
    "디스플레이는 128x32 픽셀임을 기억하십시오. 원이 표시 영역을 초과하면 잘립니다."
   ]
  },
  {
   "cell_type": "code",
   "execution_count": 19,
   "metadata": {},
   "outputs": [],
   "source": [
    "pmod_oled.clear()\n",
    "draw_circle(64,32,15)"
   ]
  },
  {
   "cell_type": "markdown",
   "metadata": {},
   "source": [
    "Python에서 추가 기능을 쉽게 추가 할 수 있지만 Python의 함수는 IOP에서 직접 실행되는 C 함수를 사용하는 것보다 느립니다. (이 경우 원 좌표는 Python으로 계산되고 IOP draw_line()은 360 회 호출되며 draw_line() 함수를 사용하여 한 줄을 그리는 것보다 훨씬 느립니다.)"
   ]
  },
  {
   "cell_type": "markdown",
   "metadata": {},
   "source": [
    "----\n",
    "## 모두 함께 사용하기\n",
    "\n",
    "일부 패턴 그리기"
   ]
  },
  {
   "cell_type": "code",
   "execution_count": 20,
   "metadata": {},
   "outputs": [],
   "source": [
    "pmod_oled.clear()\n",
    "\n",
    "pmod_oled.draw_line(0,0,128,32)\n",
    "\n",
    "pmod_oled.draw_rect(60,5,80,25)\n",
    "pmod_oled.draw_rect(105,0,120,28)\n",
    "\n",
    "draw_circle(16,16,16)"
   ]
  },
  {
   "cell_type": "code",
   "execution_count": 21,
   "metadata": {},
   "outputs": [],
   "source": [
    "pmod_oled.clear()\n",
    "\n",
    "for i in range (0,9):\n",
    "    draw_circle(16,16,i*2)\n",
    "    \n",
    "for i in range (0,6):\n",
    "    draw_circle(48,16,1+i*3)\n",
    "\n",
    "for i in range (0,5):\n",
    "    draw_circle(80,16,i*4)\n",
    "    \n",
    "for i in range (0,4):\n",
    "    draw_circle(111,16,1+i*5)"
   ]
  }
 ],
 "metadata": {
  "kernelspec": {
   "display_name": "Python 3",
   "language": "python",
   "name": "python3"
  },
  "language_info": {
   "codemirror_mode": {
    "name": "ipython",
    "version": 3
   },
   "file_extension": ".py",
   "mimetype": "text/x-python",
   "name": "python",
   "nbconvert_exporter": "python",
   "pygments_lexer": "ipython3",
   "version": "3.6.5"
  }
 },
 "nbformat": 4,
 "nbformat_minor": 1
}
