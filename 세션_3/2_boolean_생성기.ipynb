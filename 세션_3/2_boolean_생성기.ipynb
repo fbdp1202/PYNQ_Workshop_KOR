{
 "cells": [
  {
   "cell_type": "markdown",
   "metadata": {},
   "source": [
    "# Boolean 생성기\n",
    "이 챕터에서는 boolean combinational function을 생성하는 Boolean 생성기를 어떻게 사용하는지 알 수 있다. 이 function은 2입력 XOR 함수를 구현한다."
   ]
  },
  {
   "cell_type": "markdown",
   "metadata": {},
   "source": [
    "### Step 1:  `Logictools` Overlay를 다운로드한다."
   ]
  },
  {
   "cell_type": "code",
   "execution_count": 5,
   "metadata": {},
   "outputs": [],
   "source": [
    "from pynq.overlays.logictools import LogicToolsOverlay\n",
    "from pynq.lib.logictools import BooleanGenerator\n",
    "\n",
    "logictools_olay = LogicToolsOverlay('logictools.bit')"
   ]
  },
  {
   "cell_type": "markdown",
   "metadata": {},
   "source": [
    "### Step 2: 2입력 XOR Boolean function을 지정한다. \n",
    "이 논리는 보드 안의 push버튼인 **PB0**과 **PB3**, LED인 **LD2**를 output으로 실행된다. "
   ]
  },
  {
   "cell_type": "code",
   "execution_count": 6,
   "metadata": {},
   "outputs": [],
   "source": [
    "function = ['LD2 = PB3 ^ PB0']"
   ]
  },
  {
   "cell_type": "markdown",
   "metadata": {},
   "source": [
    "### Step 3: Boolean 생성기 객체를 인스턴스 생성 및 셋업한다. \n",
    "이전 단계에서 정의 된 논리 함수는 `setup ()` 메소드를 사용하여 설정된다.\n"
   ]
  },
  {
   "cell_type": "code",
   "execution_count": 7,
   "metadata": {},
   "outputs": [],
   "source": [
    "boolean_generator = logictools_olay.boolean_generator\n",
    "boolean_generator.setup(function)"
   ]
  },
  {
   "cell_type": "markdown",
   "metadata": {},
   "source": [
    "### Step 4: Boolean 생성기를 실행하여 작동을 확인한다."
   ]
  },
  {
   "cell_type": "code",
   "execution_count": 8,
   "metadata": {},
   "outputs": [],
   "source": [
    "boolean_generator.run()"
   ]
  },
  {
   "cell_type": "markdown",
   "metadata": {},
   "source": [
    "#### XOR 함수가 제대로 작동하는지 확인한다.\n",
    "\n",
    "| PB0 | PB3 | LD2 |\n",
    "|:---:|:---:|:---:|\n",
    "|  0  |  0  |  0  |\n",
    "|  0  |  1  |  1  |\n",
    "|  1  |  0  |  1  |\n",
    "|  1  |  1  |  0  |"
   ]
  },
  {
   "cell_type": "markdown",
   "metadata": {},
   "source": [
    "push버튼을 눌러 함수를 테스트한다. LED2 는 BTN0와 BTN3이 각각 켜지고 동시에 켜지지 않았을 때 켜진다."
   ]
  },
  {
   "cell_type": "markdown",
   "metadata": {},
   "source": [
    "### Step 5: Boolean 생성기의 작동을 멈춘다."
   ]
  },
  {
   "cell_type": "code",
   "execution_count": null,
   "metadata": {},
   "outputs": [],
   "source": [
    "boolean_generator.stop()"
   ]
  },
  {
   "cell_type": "markdown",
   "metadata": {},
   "source": [
    "### Step 6: 단일 셀에서 Boolean 함수 생성기를 다시 실행한다.\n",
    "**Note** : Boolean 생성기 표현 방식은 `list`일수도 있고, `dict` 형식도 가능하다 위의 예제에서는 `list`형식을 썼으며, 이번엔 `dict` 형식을 사용할 것이다.\n",
    "<font color=\"DodgerBlue\">**Alternative format:**</font> \n",
    "```python\n",
    "function = {'XOR_gate': 'LD2 = PB3 ^ PB0'}\n",
    "```"
   ]
  },
  {
   "cell_type": "code",
   "execution_count": null,
   "metadata": {},
   "outputs": [],
   "source": [
    "from pynq.overlays.logictools import LogicToolsOverlay\n",
    "from pynq.lib.logictools import BooleanGenerator\n",
    "\n",
    "logictools_olay = LogicToolsOverlay('logictools.bit')\n",
    "boolean_generator = logictools_olay.boolean_generator\n",
    "\n",
    "function = {'XOR_gate': 'LD2 = PB3 ^ PB0'}\n",
    "\n",
    "boolean_generator.setup(function)\n",
    "boolean_generator.run()"
   ]
  },
  {
   "cell_type": "markdown",
   "metadata": {},
   "source": [
    "Boolean 생성기의 작동을 멈춘다."
   ]
  },
  {
   "cell_type": "code",
   "execution_count": null,
   "metadata": {},
   "outputs": [],
   "source": [
    "boolean_generator.stop()"
   ]
  }
 ],
 "metadata": {
  "kernelspec": {
   "display_name": "Python 3",
   "language": "python",
   "name": "python3"
  },
  "language_info": {
   "codemirror_mode": {
    "name": "ipython",
    "version": 3
   },
   "file_extension": ".py",
   "mimetype": "text/x-python",
   "name": "python",
   "nbconvert_exporter": "python",
   "pygments_lexer": "ipython3",
   "version": "3.6.5"
  },
  "widgets": {
   "application/vnd.jupyter.widget-state+json": {
    "state": {},
    "version_major": 1,
    "version_minor": 0
   }
  }
 },
 "nbformat": 4,
 "nbformat_minor": 1
}
