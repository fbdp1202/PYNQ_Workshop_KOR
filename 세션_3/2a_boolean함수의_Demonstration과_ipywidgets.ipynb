{
 "cells": [
  {
   "cell_type": "markdown",
   "metadata": {
    "slideshow": {
     "slide_type": "slide"
    }
   },
   "source": [
    "# boolean함수의 Demonstration과 ipywidgets\n",
    "\n",
    "이번 챕터에서는 iPython Widget에서 사용된 logic tools overlay 안에 있는 boolean 함수를 검증할 것이다.This notebook demonstrates the boolean functions in the logic tools overlay used with iPython Widgets.\n",
    "\n",
    "\n",
    "## 슬라이드쇼\n",
    "\n",
    "이 notebook은 슬라이드쇼로 실행되기 위해 만들어졌으나, 일반 notebook으로도 실행될 수 있다.\n",
    "\n",
    "View > Cell Toolbar > Slideshow로 가면 *Slideshow options*를 볼 수 있다. 거기서 프레젠테이션에 포함되거나 제외 될 슬라이드를 선택할 수 있다.\n",
    "\n",
    "코드 셀을 클릭하고 Ctrl + Enter를 눌러 슬라이드 쇼보기에서 코드 셀을 실행할 수 있습니다.\n",
    "\n",
    "\n",
    "## 데모를 실행하기 위한 지침:\n",
    "\n",
    "* slideshow view로 들어가기 전에 Cell> Run All을 클릭하여 노트의 모든 코드를 실행하십시오.\n",
    "\n",
    "데모를 작성하는 데 사용한 코드를 notebook과 예제에서 찾아 볼 수 있다.\n",
    "\n",
    "슬라이드 쇼 모드에서 커서 키 (왼쪽)를 사용하여 프레젠테이션을 탐색한다.\n",
    "\n",
    "* 슬라이드 쇼를 입력하고 보기를 숨기려면 Alt + r을 누르십시오. (동일한 키 Alt + r로 슬라이드 쇼 모드 종료)"
   ]
  },
  {
   "cell_type": "code",
   "execution_count": 15,
   "metadata": {
    "slideshow": {
     "slide_type": "slide"
    }
   },
   "outputs": [],
   "source": [
    "import ipywidgets as widgets\n",
    "from ipywidgets import interact\n",
    "from IPython.display import display\n",
    "\n",
    "from pynq.overlays.logictools import LogicToolsOverlay\n",
    "logictools_olay = LogicToolsOverlay('logictools.bit') # Download the logictools overlay"
   ]
  },
  {
   "cell_type": "code",
   "execution_count": 16,
   "metadata": {
    "slideshow": {
     "slide_type": "slide"
    }
   },
   "outputs": [],
   "source": [
    "def update_boolean_generator(sender):\n",
    "    led = output.value.replace(\"E\", \"\") # Change \"LED\" to \"LD\"\n",
    "    led = led.replace(\"NOT \", \"~\") # Replace the text \"NOT\" with the \"~\" (NOT operator in Python)\n",
    "    \n",
    "    logic = []\n",
    "    for i in [logic0.value, logic1.value, logic2.value]:\n",
    "        if i is 'AND' :\n",
    "            logic.append('&')\n",
    "        elif i is 'OR' :\n",
    "            logic.append('|')\n",
    "        elif i is 'XOR' :\n",
    "            logic.append('^')\n",
    "    \n",
    "    inputs = []\n",
    "    for i in [input0.value, input1.value, input2.value, input3.value]:\n",
    "        if i is not '-' :\n",
    "            i = i.replace(\"NOT \", \"~\") \n",
    "            inputs.append(i)\n",
    "            \n",
    "    # Build logic function\n",
    "    # Assumes inputs[0] always exists\n",
    "    function = led + '=' + inputs[0]\n",
    "\n",
    "    for i, j in zip(logic, inputs[1:4]):\n",
    "        function = function + i + j\n",
    "\n",
    "    # Apply the function to the boolean generator    \n",
    "    boolean_generator = logictools_olay.boolean_generator\n",
    "    boolean_generator.reset()\n",
    "    boolean_generator.setup([function])\n",
    "    boolean_generator.run()"
   ]
  },
  {
   "cell_type": "markdown",
   "metadata": {
    "slideshow": {
     "slide_type": "slide"
    }
   },
   "source": [
    "# 논리 함수 위젯\n",
    "\n",
    " 선택된 위젯으로 구성된 간단한 GUI가 만들어 져서 각 LED에 대해 논리 기능을 만들 수 있습니다. 각 논리 함수는 4 개의 push버튼들과 사용 가능한 Boolean operator들로 만들어질 수 있다."
   ]
  },
  {
   "cell_type": "markdown",
   "metadata": {
    "collapsed": true,
    "slideshow": {
     "slide_type": "slide"
    }
   },
   "source": [
    "LED를 선택하여 *Output*을 만든다."
   ]
  },
  {
   "cell_type": "code",
   "execution_count": 17,
   "metadata": {
    "slideshow": {
     "slide_type": "slide"
    }
   },
   "outputs": [],
   "source": [
    "output = widgets.Select(\n",
    "    options=['LED0', 'LED1', 'LED2', 'LED3'],\n",
    "    value='LED0',\n",
    "    description='Select LED',\n",
    "    disabled=False)\n",
    "output.layout.width='400px'"
   ]
  },
  {
   "cell_type": "markdown",
   "metadata": {
    "collapsed": true,
    "slideshow": {
     "slide_type": "slide"
    }
   },
   "source": [
    "Input은 4개의 어떤 push botton이든지 가능하다.\n",
    "Not 논리 연산자는 별도의 논리 연산자가 아닌 입력으로 캡슐화된다."
   ]
  },
  {
   "cell_type": "code",
   "execution_count": 18,
   "metadata": {
    "slideshow": {
     "slide_type": "slide"
    }
   },
   "outputs": [],
   "source": [
    "inputs = ['PB0', 'PB1', 'PB2', 'PB3', 'NOT PB0', 'NOT PB1', 'NOT PB2', 'NOT PB3', '-']\n",
    "input0 = widgets.Select(\n",
    "    options=inputs,\n",
    "    value='PB0',\n",
    "    #description=' = ',\n",
    "    disabled=False)\n",
    "\n",
    "input1 = widgets.Select(\n",
    "    options=inputs,\n",
    "    value='PB1',\n",
    "    #description='PB',\n",
    "    disabled=False)\n",
    "\n",
    "input2 = widgets.Select(\n",
    "    options=inputs,\n",
    "    value='-',\n",
    "    #description='PB',\n",
    "    disabled=False)\n",
    "\n",
    "input3 = widgets.Select(\n",
    "    options=inputs,\n",
    "    value='-',\n",
    "    #description='PB',\n",
    "    disabled=False)"
   ]
  },
  {
   "cell_type": "markdown",
   "metadata": {
    "collapsed": true,
    "slideshow": {
     "slide_type": "slide"
    }
   },
   "source": [
    "논리연산자로는 *AND*, *OR*, *XOR*를 선택할수 있다."
   ]
  },
  {
   "cell_type": "code",
   "execution_count": 19,
   "metadata": {
    "slideshow": {
     "slide_type": "slide"
    }
   },
   "outputs": [],
   "source": [
    "logic_operators=['AND', 'OR', 'XOR', '-']\n",
    "\n",
    "logic0 = widgets.Select(\n",
    "    options=logic_operators,\n",
    "    value='AND',\n",
    "    disabled=False)\n",
    "\n",
    "logic1 = widgets.Select(\n",
    "    options=logic_operators,\n",
    "    value='-',\n",
    "    disabled=False)\n",
    "\n",
    "logic2 = widgets.Select(\n",
    "    options=logic_operators,\n",
    "    value='-',\n",
    "    disabled=False)"
   ]
  },
  {
   "cell_type": "markdown",
   "metadata": {
    "collapsed": true,
    "slideshow": {
     "slide_type": "slide"
    }
   },
   "source": [
    "**입력값**이 바뀌면 Boolean 생성기를 업데이트 하십시오."
   ]
  },
  {
   "cell_type": "code",
   "execution_count": 20,
   "metadata": {
    "slideshow": {
     "slide_type": "slide"
    }
   },
   "outputs": [],
   "source": [
    "output.observe(update_boolean_generator, names='value')\n",
    "logic0.observe(update_boolean_generator, names='value')\n",
    "logic1.observe(update_boolean_generator, names='value')\n",
    "logic2.observe(update_boolean_generator, names='value')\n",
    "input0.observe(update_boolean_generator, names='value')\n",
    "input1.observe(update_boolean_generator, names='value')\n",
    "input2.observe(update_boolean_generator, names='value')\n",
    "input3.observe(update_boolean_generator, names='value')"
   ]
  },
  {
   "cell_type": "markdown",
   "metadata": {
    "slideshow": {
     "slide_type": "slide"
    }
   },
   "source": [
    "모든 item들을 Box 안에 그룹화시키고, update_boolean_generator를 호출하여 Boolean생성기를 초기화한다."
   ]
  },
  {
   "cell_type": "code",
   "execution_count": 21,
   "metadata": {
    "slideshow": {
     "slide_type": "slide"
    }
   },
   "outputs": [],
   "source": [
    "items = [output, input0, logic0, input1, logic1, input2, logic2, input3]\n",
    "update_boolean_generator(_)\n",
    "\n",
    "select_led = widgets.Box(items)"
   ]
  },
  {
   "cell_type": "markdown",
   "metadata": {
    "slideshow": {
     "slide_type": "slide"
    }
   },
   "source": [
    "### Boolean 함수 만들기\n",
    "\n",
    "Input은 **PB0**, **PB1**, **PB2**, **PB3** (PB의 반전인 **NOT PB0**, **NOT PB1** ...) 으로 네개의 push버튼으로 받을 수 있다.\n",
    "\n",
    "Output은 **LD0**, **LD1**, **LD2**, **LD3** 로 총 네 개의 LED로 받을 수 있다.\n",
    "\n",
    "Operation은 아래처럼 쓸 수 있다.\n",
    "* **&** : AND\n",
    "* **|** : OR\n",
    "* **^** : XOR "
   ]
  },
  {
   "cell_type": "markdown",
   "metadata": {
    "slideshow": {
     "slide_type": "slide"
    }
   },
   "source": [
    "Push버튼과 LED를 사용하여 구현될 논리 함수를 선택하기 위해 Select Box를 사용해라."
   ]
  },
  {
   "cell_type": "code",
   "execution_count": 22,
   "metadata": {
    "slideshow": {
     "slide_type": "slide"
    }
   },
   "outputs": [
    {
     "data": {
      "application/vnd.jupyter.widget-view+json": {
       "model_id": "30011e75b5264e3e80c3ebb1f97580ea",
       "version_major": 2,
       "version_minor": 0
      },
      "text/plain": [
       "Box(children=(Select(description='Select LED', layout=Layout(width='400px'), options=('LED0', 'LED1', 'LED2', …"
      ]
     },
     "metadata": {},
     "output_type": "display_data"
    }
   ],
   "source": [
    "select_led"
   ]
  },
  {
   "cell_type": "markdown",
   "metadata": {
    "slideshow": {
     "slide_type": "slide"
    }
   },
   "source": [
    "보드위 push버튼을 눌러 논리함수를 테스트하고, LED 불이 제대로 켜지는지 확인하라."
   ]
  },
  {
   "cell_type": "code",
   "execution_count": null,
   "metadata": {},
   "outputs": [],
   "source": []
  },
  {
   "cell_type": "code",
   "execution_count": null,
   "metadata": {},
   "outputs": [],
   "source": []
  }
 ],
 "metadata": {
  "celltoolbar": "Slideshow",
  "kernelspec": {
   "display_name": "Python 3",
   "language": "python",
   "name": "python3"
  },
  "language_info": {
   "codemirror_mode": {
    "name": "ipython",
    "version": 3
   },
   "file_extension": ".py",
   "mimetype": "text/x-python",
   "name": "python",
   "nbconvert_exporter": "python",
   "pygments_lexer": "ipython3",
   "version": "3.6.5"
  },
  "widgets": {
   "application/vnd.jupyter.widget-state+json": {
    "state": {},
    "version_major": 1,
    "version_minor": 0
   }
  }
 },
 "nbformat": 4,
 "nbformat_minor": 1
}
