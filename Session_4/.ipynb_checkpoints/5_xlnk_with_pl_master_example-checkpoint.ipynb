{
 "cells": [
  {
   "cell_type": "markdown",
   "metadata": {},
   "source": [
    "# PL에서 PS DRAM 접근하기\n",
    "\n",
    "이 챕터에서는 PYNQ Xlnk 클래스가 DDR 메모리에 메모리 버퍼를 할당하는 데 사용된다. 메모리의 실제 주소는 PL로,이 경우에는 IOP로 전달된다. IOP에는 PS DRAM에 대한 연결이 있다. 응용 프로그램은 IOP에서 실행되어 PS DRAM의 메모리 버퍼 내용을 수정한다.\n",
    "\n",
    "비슷한 방식으로, PL의 다른 IP는 물리적 메모리 포인터를 사용하여 PS DRAM에 액세스 할 수 있다."
   ]
  },
  {
   "cell_type": "markdown",
   "metadata": {},
   "source": [
    "### Xlnk의 인스턴스 만들기"
   ]
  },
  {
   "cell_type": "code",
   "execution_count": 1,
   "metadata": {},
   "outputs": [
    {
     "data": {
      "application/javascript": [
       "\n",
       "require(['notebook/js/codecell'], function(codecell) {\n",
       "  codecell.CodeCell.options_default.highlight_modes[\n",
       "      'magic_text/x-csrc'] = {'reg':[/^%%microblaze/]};\n",
       "  Jupyter.notebook.events.one('kernel_ready.Kernel', function(){\n",
       "      Jupyter.notebook.get_cells().map(function(cell){\n",
       "          if (cell.cell_type == 'code'){ cell.auto_highlight(); } }) ;\n",
       "  });\n",
       "});\n"
      ]
     },
     "metadata": {},
     "output_type": "display_data"
    }
   ],
   "source": [
    "from pynq import Xlnk\n",
    "xlnk = Xlnk()"
   ]
  },
  {
   "cell_type": "markdown",
   "metadata": {},
   "source": [
    "### mmu의 상태 확인\n",
    "\n",
    "*cma_stats()*는 Xlnk 인스턴스의 상태를 가져 오는 데 사용할 수 있다. Xlnk은 충분한 공간을 사용할 수있는 경우에만 메모리를 할당 할 수 있습니다.\n",
    "\n",
    "### Check the status of the mmu\n",
    "\n",
    "*cma_stats()* can be used to get the status of the Xlnk instance. Xlnk can only allocate memory if sufficient space is available. "
   ]
  },
  {
   "cell_type": "code",
   "execution_count": null,
   "metadata": {},
   "outputs": [],
   "source": [
    "xlnk.cma_stats()"
   ]
  },
  {
   "cell_type": "markdown",
   "metadata": {},
   "source": [
    "## Allocate memory buffer\n",
    "The cma_array() function in Xlnk creates a contiguous memory buffer. The buffer can be used from Python. Python is running on Linux, and will access the buffer via a virtual memory address. This is transparent to the user at the Python level. The Xlnk  function cma_get_phy_addr() can be used to return the physical address. This physical address can be used by IP in the PL to access the same memory buffer in PS DRAM. "
   ]
  },
  {
   "cell_type": "code",
   "execution_count": null,
   "metadata": {},
   "outputs": [],
   "source": [
    "import numpy as np \n",
    "py_buffer = xlnk.cma_array(shape=(1000,), dtype=np.int32)"
   ]
  },
  {
   "cell_type": "markdown",
   "metadata": {},
   "source": [
    "### Check the memory buffer addresses\n",
    "\n",
    "The virtual address can be used by any application running in Linux. This could be a Python application, or a C/C++ or other application running in Linux. The Physical address can be passed to an IP block in an overlay."
   ]
  },
  {
   "cell_type": "markdown",
   "metadata": {},
   "source": [
    "### Download the base overlay"
   ]
  },
  {
   "cell_type": "code",
   "execution_count": null,
   "metadata": {},
   "outputs": [],
   "source": [
    "from pynq.overlays.base import BaseOverlay\n",
    "base = BaseOverlay('base.bit')"
   ]
  },
  {
   "cell_type": "markdown",
   "metadata": {},
   "source": [
    "## Create MicroBlaze program\n",
    "\n",
    "The C code for a new function that will run on a MicroBlaze is provided in the next cell. The C function parameters are a physical address, a length, and data. The function will modify the contents of the It will modify data in the range [*address* : *address*+*length*], by reading the contents of each memory location, and adding an offset value *data* to each location."
   ]
  },
  {
   "cell_type": "code",
   "execution_count": null,
   "metadata": {},
   "outputs": [],
   "source": [
    "%%microblaze base.ARDUINO\n",
    "void my_function(unsigned int physical_address, unsigned int length, unsigned int data) {\n",
    "    int i;\n",
    "    int *mb_buffer;\n",
    "    \n",
    "    // DDR is accessed through a GP port at offset 0x20000000\n",
    "    mb_buffer = (int *)(physical_address|0x20000000); // Cast to pointer and convert to DDR offset address\n",
    "\n",
    "    // Write memory buffer in DDR\n",
    "    for(i=0; i<length; i++){\n",
    "        mb_buffer[i]= mb_buffer[i] + data;\n",
    "    }\n",
    "}"
   ]
  },
  {
   "cell_type": "markdown",
   "metadata": {},
   "source": [
    "Initialise the buffer with some values: "
   ]
  },
  {
   "cell_type": "code",
   "execution_count": null,
   "metadata": {},
   "outputs": [],
   "source": [
    "length = 20 \n",
    "for i in range(length):\n",
    "    py_buffer[i] = i"
   ]
  },
  {
   "cell_type": "markdown",
   "metadata": {},
   "source": [
    "Check the content of the buffer"
   ]
  },
  {
   "cell_type": "code",
   "execution_count": null,
   "metadata": {},
   "outputs": [],
   "source": [
    "py_buffer[0:length]"
   ]
  },
  {
   "cell_type": "markdown",
   "metadata": {},
   "source": [
    "## Write to buffer from IOP\n",
    "\n",
    "Write the physical pointer address returned form the *mmu* Xlnk instance, along with an initialization value and a length. The IOP application will then write to the memory buffer."
   ]
  },
  {
   "cell_type": "code",
   "execution_count": null,
   "metadata": {},
   "outputs": [],
   "source": [
    "data = 10\n",
    "my_function(py_buffer.physical_address, length, data)"
   ]
  },
  {
   "cell_type": "markdown",
   "metadata": {},
   "source": [
    "Check the contents of the buffer after the IOP application has modified the buffer. The cell above can be re-run with different values of data and length."
   ]
  },
  {
   "cell_type": "code",
   "execution_count": null,
   "metadata": {},
   "outputs": [],
   "source": [
    "py_buffer[0:length]"
   ]
  }
 ],
 "metadata": {
  "kernelspec": {
   "display_name": "Python 3",
   "language": "python",
   "name": "python3"
  },
  "language_info": {
   "codemirror_mode": {
    "name": "ipython",
    "version": 3
   },
   "file_extension": ".py",
   "mimetype": "text/x-python",
   "name": "python",
   "nbconvert_exporter": "python",
   "pygments_lexer": "ipython3",
   "version": "3.6.5"
  }
 },
 "nbformat": 4,
 "nbformat_minor": 1
}
