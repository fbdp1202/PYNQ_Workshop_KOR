{
 "cells": [
  {
   "cell_type": "markdown",
   "metadata": {},
   "source": [
    "# PYNQ를 이용한 PS GPIO\n",
    "\n",
    "## 목표\n",
    "\n",
    "이 장에서는 PYNQ의 Zynq PS(Processing System) GPIO 사용법을 다룰 것이다. PS GPIO는 PS에서 나오는 simple wire이며, PL(Programmable logic)에서 컨트롤러를 필요로 하지 않는다.\n",
    "\n",
    "최대 64개의 PS GPIO를 사용할 수 있으며, 이는 간단한 제어 및 데이터 신호를 PL의 IP 또는 주변 장치들에 연결하는 데 사용될 수 있다.\n",
    "\n",
    "## 하드웨어 설계\n",
    "\n",
    "이 예제는 PS GPIO를 LED, 버튼 및 스위치에 연결하는 비트스트림을 사용하며 PYNQ-Z1 또는 PYNQ-Z2 보드에서 사용될 수 있다.\n",
    "\n",
    "![PS GPIO Design](./images/ps_gpio_design.png \"PS GPIO Design\")"
   ]
  },
  {
   "cell_type": "markdown",
   "metadata": {},
   "source": [
    "GPIO Map: \n",
    "\n",
    "* GPIO 0 - 3: Buttons\n",
    "* GPIO 4 - 5: Switches\n",
    "* GPIO 6 - 9: LEDs"
   ]
  },
  {
   "cell_type": "markdown",
   "metadata": {},
   "source": [
    "### 1. 튜토리얼 overlay 다운로드하기\n",
    "\n",
    " `ps_gpio.bit`와 `ps_gpio.tcl` 파일은 이 폴더의 로컬 비트스트림 디렉토리에서 찾을 수 있다. \n",
    " 비트스트림은 overlay 클래스에 상대 경로를 전달함으로써 다운로드될 수 있다."
   ]
  },
  {
   "cell_type": "markdown",
   "metadata": {},
   "source": [
    "* bitstream 디렉토리에 있는 .tcl과 .bit을 확인하라."
   ]
  },
  {
   "cell_type": "code",
   "execution_count": null,
   "metadata": {},
   "outputs": [],
   "source": [
    "!dir ./bitstream"
   ]
  },
  {
   "cell_type": "markdown",
   "metadata": {},
   "source": [
    "* 비트스트림을 다운로드하라."
   ]
  },
  {
   "cell_type": "code",
   "execution_count": null,
   "metadata": {},
   "outputs": [],
   "source": [
    "from pynq import Overlay\n",
    "ps_gpio_design = Overlay(\"./bitstream/ps_gpio.bit\")"
   ]
  },
  {
   "cell_type": "markdown",
   "metadata": {},
   "source": [
    "## GPIO 클래스\n",
    "\n",
    "GPIO클래스는 PS GPIO에 접근하는 데 사용된다."
   ]
  },
  {
   "cell_type": "markdown",
   "metadata": {},
   "source": [
    "### 1. 스위치와 푸시 버튼 제어하기\n",
    "\n",
    "설계에 있어서 PS GPIO 핀 0에서 3은 푸시 버튼에 연결, 핀 4에서 5는 PYNQ-Z1 또는 PYNQ-Z2보드의 딥 스위치(dip-switch)에 연결된다. "
   ]
  },
  {
   "cell_type": "code",
   "execution_count": null,
   "metadata": {},
   "outputs": [],
   "source": [
    "from pynq import GPIO\n",
    "\n",
    "button0 = GPIO(GPIO.get_gpio_pin(0), 'in')"
   ]
  },
  {
   "cell_type": "code",
   "execution_count": null,
   "metadata": {},
   "outputs": [],
   "source": [
    "button0.read()"
   ]
  },
  {
   "cell_type": "markdown",
   "metadata": {},
   "source": [
    "보드의 BTN0 버튼을 누르고나서 위 셀을 다시 실행해보라."
   ]
  },
  {
   "cell_type": "markdown",
   "metadata": {},
   "source": [
    "다른 버튼과 스위치들 또한 위처럼 읽는 것을 볼 수 있다."
   ]
  },
  {
   "cell_type": "code",
   "execution_count": null,
   "metadata": {},
   "outputs": [],
   "source": [
    "button1 = GPIO(GPIO.get_gpio_pin(1), 'in')\n",
    "button2 = GPIO(GPIO.get_gpio_pin(2), 'in')\n",
    "button3 = GPIO(GPIO.get_gpio_pin(3), 'in')\n",
    "\n",
    "switch0 = GPIO(GPIO.get_gpio_pin(4), 'in')\n",
    "switch1 = GPIO(GPIO.get_gpio_pin(5), 'in')"
   ]
  },
  {
   "cell_type": "markdown",
   "metadata": {},
   "source": [
    "다른 버튼(BTN1,BTN2,BTN3)을 누르고, 아래 셀을 실행하면서 스위치(SW0,SW1)을 움직여보라."
   ]
  },
  {
   "cell_type": "code",
   "execution_count": null,
   "metadata": {},
   "outputs": [],
   "source": [
    "print(f\"Button0: {button0.read()}\")\n",
    "print(f\"Button1: {button1.read()}\")\n",
    "print(f\"Button2: {button2.read()}\")\n",
    "print(f\"Button3: {button3.read()}\")\n",
    "\n",
    "print(\"\")\n",
    "print(f\"Switch0: {switch0.read()}\")\n",
    "print(f\"Switch1: {switch1.read()}\")"
   ]
  },
  {
   "cell_type": "markdown",
   "metadata": {},
   "source": [
    "### 2. LED 제어하기\n",
    "\n",
    "LED는 위와 같은 방식으로 사용될 수 있으며, GPIO 클래스로 전달되는 방향에서 유일하게 차이점을 보인다. LED는 위 설계에서 PS GPIO 6에서 9까지에 연결된다."
   ]
  },
  {
   "cell_type": "code",
   "execution_count": null,
   "metadata": {},
   "outputs": [],
   "source": [
    "led0 = GPIO(GPIO.get_gpio_pin(6), 'out')"
   ]
  },
  {
   "cell_type": "code",
   "execution_count": null,
   "metadata": {},
   "outputs": [],
   "source": [
    "led0.write(1)"
   ]
  },
  {
   "cell_type": "code",
   "execution_count": null,
   "metadata": {},
   "outputs": [],
   "source": [
    "led1 = GPIO(GPIO.get_gpio_pin(7), 'out')\n",
    "led2 = GPIO(GPIO.get_gpio_pin(8), 'out')\n",
    "led3 = GPIO(GPIO.get_gpio_pin(9), 'out')"
   ]
  },
  {
   "cell_type": "code",
   "execution_count": null,
   "metadata": {},
   "outputs": [],
   "source": [
    "from time import sleep\n",
    "\n",
    "led1.write(1)\n",
    "sleep(1)\n",
    "led2.write(1)\n",
    "sleep(1)\n",
    "led3.write(1)"
   ]
  },
  {
   "cell_type": "markdown",
   "metadata": {},
   "source": [
    "* LED를 초기화하라."
   ]
  },
  {
   "cell_type": "code",
   "execution_count": null,
   "metadata": {},
   "outputs": [],
   "source": [
    "led0.write(0)\n",
    "led1.write(0)\n",
    "led2.write(0)\n",
    "led3.write(0)"
   ]
  },
  {
   "cell_type": "markdown",
   "metadata": {},
   "source": [
    "### 3. 함께 해보기\n",
    "\n",
    "루프를 실행하여 LED를 푸시 버튼 값으로 설정한다. \n",
    "\n",
    "다음 셀을 실행하기 전에 스위치 0(SW0)이 \"on\"인지 확인하라.\n",
    "루프가 실행되는 동안 푸시 버튼을 누르면 해당 LED가 켜진다. 루프를 끝내고자 한다면 switch0을 off로 변경한다."
   ]
  },
  {
   "cell_type": "code",
   "execution_count": null,
   "metadata": {},
   "outputs": [],
   "source": [
    "while(switch0.read() is 1):\n",
    "    led0.write(button0.read())\n",
    "    led1.write(button1.read())\n",
    "    led2.write(button2.read())\n",
    "    led3.write(button3.read())    "
   ]
  }
 ],
 "metadata": {
  "kernelspec": {
   "display_name": "Python 3",
   "language": "python",
   "name": "python3"
  },
  "language_info": {
   "codemirror_mode": {
    "name": "ipython",
    "version": 3
   },
   "file_extension": ".py",
   "mimetype": "text/x-python",
   "name": "python",
   "nbconvert_exporter": "python",
   "pygments_lexer": "ipython3",
   "version": "3.6.5"
  }
 },
 "nbformat": 4,
 "nbformat_minor": 2
}
