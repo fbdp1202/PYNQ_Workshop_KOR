{
 "cells": [
  {
   "cell_type": "markdown",
   "metadata": {},
   "source": [
    "# Grove LED Bar 예제\n",
    "\n",
    "----\n",
    "* [개요](#개요)\n",
    "* [보드 및 센서 설정하기](#보드-및-센서-설정하기)\n",
    "\n",
    "----\n",
    "## 개요\n",
    "\n",
    "이 챕터는 PYNQ-Z1 또는 PYNQ-Z2 보드에서 Grove LED 막대를 사용하는 방법을 보여준다.\n",
    "\n",
    "[Grove LED Bar](http://www.seeedstudio.com/depot/Grove-LED-Bar-v20-p-2474.html)와 Pynq Grove Adapter가 필요하다.\n",
    "\n",
    "LED Bar는 GPIO에 의해 구동되는 주변장치이다.\n",
    "\n",
    "LED Bar는 보드의 PMODB에 연결된 Pynq Grove 어댑터의 G1 연결부에 연결하라.\n",
    "\n",
    "LED Bar에는 8개의 녹색 LED, 1개의 주황색 LED 및 1개의 빨간색 LED, 총 10개의 LED가 있다. 각 LED의 밝기는 독립적으로 설정 할 수 있다. LED Bar를 지원하는 모든 기능은 LED Bar를 구동하는 IOP에서 실행 중인 C 코드에서 구현된다.\n",
    "\n",
    "\n",
    "----\n",
    "## 보드 및 센서 설정하기"
   ]
  },
  {
   "cell_type": "code",
   "execution_count": 1,
   "metadata": {},
   "outputs": [
    {
     "data": {
      "application/javascript": [
       "\n",
       "require(['notebook/js/codecell'], function(codecell) {\n",
       "  codecell.CodeCell.options_default.highlight_modes[\n",
       "      'magic_text/x-csrc'] = {'reg':[/^%%microblaze/]};\n",
       "  Jupyter.notebook.events.one('kernel_ready.Kernel', function(){\n",
       "      Jupyter.notebook.get_cells().map(function(cell){\n",
       "          if (cell.cell_type == 'code'){ cell.auto_highlight(); } }) ;\n",
       "  });\n",
       "});\n"
      ]
     },
     "metadata": {},
     "output_type": "display_data"
    }
   ],
   "source": [
    "from pynq.overlays.base import BaseOverlay\n",
    "base = BaseOverlay(\"base.bit\")"
   ]
  },
  {
   "cell_type": "markdown",
   "metadata": {},
   "source": [
    "### 1. LED 막대 초기화 및 재 설정\n",
    "LED 막대의 인스턴스 만들기\n",
    "Pynq Grove 어댑터의 핀과 함께 IOP (Pmod IOP (A 또는 B) 또는 Arduino IOP)를 선택해야합니다.\n"
   ]
  },
  {
   "cell_type": "code",
   "execution_count": 2,
   "metadata": {},
   "outputs": [],
   "source": [
    "from pynq.lib.pmod import Grove_LEDbar\n",
    "from pynq.lib.pmod import PMOD_GROVE_G1 # Import constants\n",
    "\n",
    "# Instantiate Grove LED Bar on PMODB and on Pmod2Grove G1\n",
    "# PMODA = 1, PMODB = 2, Arduino = 3\n",
    "# Pynq Grove Adapter; G1 = [0,4], G2 = [1,5], G3 = [7,3], G4 = [6,2]\n",
    "# The LED bar can be connected to G1-7 on the Pynq Arduino Shield:\n",
    "# G1 = [2,3], G2 = [3,4], G3 = [4,5], G4 = [6,7], G5 = [8,9], G6 = [10,11], G7 = [12,13]\n",
    "ledbar = Grove_LEDbar(base.PMODB,PMOD_GROVE_G1)\n",
    "ledbar.reset()"
   ]
  },
  {
   "cell_type": "markdown",
   "metadata": {},
   "source": [
    "### 2. 각 LED를 켜고 끄기\n",
    "\n",
    "각각의 비트가 해당 LED를 나타내는 10 비트 바이너리 패턴을 작성하라. 1 = 켜짐, 0 = 꺼짐"
   ]
  },
  {
   "cell_type": "code",
   "execution_count": 3,
   "metadata": {},
   "outputs": [],
   "source": [
    "#from pynq.pmods import pmod_const\n",
    "from time import sleep\n",
    "\n",
    "# Light up different bars in a loop\n",
    "for i in range(2):\n",
    "    ledbar.write_binary(0b1010100000)\n",
    "    sleep(0.5)\n",
    "    ledbar.write_binary(0b0000100100)\n",
    "    sleep(0.5)\n",
    "    ledbar.write_binary(0b1010101110)\n",
    "    sleep(0.5)\n",
    "    ledbar.write_binary(0b1111111110)\n",
    "    sleep(0.5)"
   ]
  },
  {
   "cell_type": "markdown",
   "metadata": {},
   "source": [
    "### 3. 각각의 밝기 값으로 LED를 개별적으로 설정하기\n",
    "\n",
    "각 LED의 밝기는 LED Bar에 10x8 비트 값 목록을 작성하여 개별적으로 설정할 수 있습니다. 0은 꺼짐, 0xff는 최대 밝기이다."
   ]
  },
  {
   "cell_type": "code",
   "execution_count": 4,
   "metadata": {},
   "outputs": [],
   "source": [
    "# Brightness 0-255\n",
    "HIGH = 0xFF\n",
    "MED  = 0xAA\n",
    "LOW  = 0x01\n",
    "OFF  = 0X00\n",
    "\n",
    "brightness = [OFF, OFF, OFF, LOW, LOW, MED, MED, HIGH, HIGH, HIGH]\n",
    "\n",
    "ledbar.write_brightness(0b1111111111,brightness)"
   ]
  },
  {
   "cell_type": "markdown",
   "metadata": {},
   "source": [
    "### 4. \"Level\" 또는 설정된 LED의 개수를 설정하기\n",
    "\n",
    "숫자 또는 \"Level\"의 LED는 LED 막대의 양쪽 끝에서 시작하여 켜질 수 있습니다. 예를 들어, 이것은 측정 대상의 레벨을 나타내는 데 사용될 수 있습니다.\n",
    "\n",
    "write_level(level, bright_level, green_to_red)\n",
    "\n",
    "* level은 켜져있는 LED의 수이다.\n",
    "* bright_level [0-10]은 밝기 값이다.\n",
    "* green_to_red = 1은 LED 막대의 \"녹색\"끝에서 LED가 켜지는 것을 의미한다.\n",
    "* green_to_red = 0은 LED 막대의 \"빨간색\"끝에서 LED가 켜지는 것을 의미한다.\n",
    "\n",
    "예 : ledbar.write_level (5,4,1)은 5개의 LED를 밝기 4(10 개 중)로 켜고 녹색 LED (LED 막대 모듈의 Grove 커넥터에서 가장 먼 LED)에서 시작한다.\n"
   ]
  },
  {
   "cell_type": "code",
   "execution_count": 5,
   "metadata": {},
   "outputs": [],
   "source": [
    "for i in range (1,11):\n",
    "    ledbar.write_level(i,3,0)\n",
    "    sleep(0.3)\n",
    "for i in range (1,10):\n",
    "    ledbar.write_level(i,3,1)\n",
    "    sleep(0.3)    "
   ]
  },
  {
   "cell_type": "markdown",
   "metadata": {},
   "source": [
    "### 5. 보드 바에서 LED 막대를 제어하는 간단한 예\n",
    "\n",
    "LED의 \"레벨\"은 보드의 버튼을 사용하여 설정할 수 있다.\n",
    "\n",
    "* 레벨을 높이려면 버튼 0\n",
    "* 레벨을 낮추는 버튼 1\n",
    "* 버튼 3은 종료"
   ]
  },
  {
   "cell_type": "code",
   "execution_count": null,
   "metadata": {},
   "outputs": [],
   "source": [
    "MAX_BTNS = 4\n",
    "\n",
    "btns = [base.buttons[index] for index in range(4)] \n",
    "i = 1\n",
    "ledbar.reset()\n",
    "\n",
    "done = False\n",
    "while not done:\n",
    "    if (btns[0].read()==1):\n",
    "        sleep(0.2)\n",
    "        ledbar.write_level(i,2,1)\n",
    "        i = min(i+1,9)\n",
    "    elif (btns[1].read()==1):\n",
    "        sleep(0.2)\n",
    "        i = max(i-1,0)\n",
    "        ledbar.write_level(i,2,1)\n",
    "    elif (btns[3].read()==1):\n",
    "        ledbar.reset()\n",
    "        done = True"
   ]
  }
 ],
 "metadata": {
  "kernelspec": {
   "display_name": "Python 3",
   "language": "python",
   "name": "python3"
  },
  "language_info": {
   "codemirror_mode": {
    "name": "ipython",
    "version": 3
   },
   "file_extension": ".py",
   "mimetype": "text/x-python",
   "name": "python",
   "nbconvert_exporter": "python",
   "pygments_lexer": "ipython3",
   "version": "3.6.5"
  }
 },
 "nbformat": 4,
 "nbformat_minor": 1
}
