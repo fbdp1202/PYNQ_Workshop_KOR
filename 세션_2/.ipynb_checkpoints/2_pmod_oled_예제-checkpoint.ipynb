{
 "cells": [
  {
   "cell_type": "markdown",
   "metadata": {},
   "source": [
    "## PmodOLED 예제\n",
    "\n",
    "## 목차\n",
    "\n",
    "* [개요](#개요)\n",
    "* [보드와 PmodOLED 세팅](#보드와-PmodOLED-세팅)\n",
    "* [PmodOLED에 문자 쓰기](#PmodOLED에-문자-쓰기)\n",
    "* [여러 패턴 그리기](#여러-패턴-그리기)\n",
    "* [새로운 파이썬 함수 만들기](#새로운-파이썬-함수-만들기)\n",
    "* [모두 함께 사용하기](#모두-함께-사용하기)\n",
    "\n",
    "----\n",
    "\n",
    "## 개요\n",
    "이 데모에서는 PYNQ-Z1 또는 PYNQ-Z2 보드를 사용하여 PmodOLED를 사용하는 방법을 보여줍니다.\n",
    "\n",
    "----\n",
    "\n",
    "## 보드와 PmodOLED 세팅\n",
    "### PmodOLED를 보드에 연결하십시오.\n",
    "이 예제에서 ***PmodOLED***은 ***PMODA에 연결되어야합니다.***"
   ]
  },
  {
   "cell_type": "code",
   "execution_count": null,
   "metadata": {},
   "outputs": [],
   "source": [
    "from pynq.overlays.base import BaseOverlay\n",
    "base = BaseOverlay(\"base.bit\")"
   ]
  },
  {
   "cell_type": "code",
   "execution_count": null,
   "metadata": {},
   "outputs": [],
   "source": [
    "from pynq.lib.pmod import Pmod_OLED\n",
    "# Connect to PMODA\n",
    "pmod_oled = Pmod_OLED(base.PMODA)"
   ]
  },
  {
   "cell_type": "markdown",
   "metadata": {
    "collapsed": true
   },
   "source": [
    "## PmodOLED에 문자 쓰기"
   ]
  },
  {
   "cell_type": "code",
   "execution_count": null,
   "metadata": {},
   "outputs": [],
   "source": [
    "pmod_oled.clear()\n",
    "pmod_oled.write('     Welcome\\n       to\\n      PYNQ!')"
   ]
  },
  {
   "cell_type": "markdown",
   "metadata": {},
   "source": [
    "#### 이제 OLED에서 텍스트 출력을 볼 수 있습니다.\n",
    "\n",
    "다른 메시지도 시도해보기:"
   ]
  },
  {
   "cell_type": "code",
   "execution_count": null,
   "metadata": {
    "scrolled": true
   },
   "outputs": [],
   "source": [
    "pmod_oled.clear()\n",
    "pmod_oled.write('Python and Zynq\\nProductivity &  performance')"
   ]
  },
  {
   "cell_type": "markdown",
   "metadata": {},
   "source": [
    "확인한 뒤에 디스플레이를 지웁니다."
   ]
  },
  {
   "cell_type": "code",
   "execution_count": null,
   "metadata": {},
   "outputs": [],
   "source": [
    "pmod_oled.clear()"
   ]
  },
  {
   "cell_type": "markdown",
   "metadata": {},
   "source": [
    "시스템 정보를 캡처하여 파이썬 변수에 저장하고 주변 장치에 쓸 수 있습니다."
   ]
  },
  {
   "cell_type": "code",
   "execution_count": null,
   "metadata": {},
   "outputs": [],
   "source": [
    "hostname = !hostname\n",
    "ip_addr = !hostname -I\n",
    "pmod_oled.write(hostname[0] + \"\\nIP:\" + ip_addr[0])"
   ]
  },
  {
   "cell_type": "code",
   "execution_count": null,
   "metadata": {},
   "outputs": [],
   "source": [
    "pmod_oled.clear()"
   ]
  },
  {
   "cell_type": "markdown",
   "metadata": {},
   "source": [
    "----\n",
    "## 여러 패턴 그리기\n",
    "The PmodOLED includes some built in functions running in C code on the IOP. For drawing lines and rectangles, the `draw_line()` `draw_rectangle()` functions are provided.\n",
    "\n",
    "The OLED display area is 32 pixels x 128 pixels.\n",
    "\n",
    "\n",
    "### Draw a line\n",
    "A line can be drawn by specifying two co-ordinates: pmod_oled.draw_line(x1, y1, x2,y2)\n",
    "You can execute the next cell, or change the co-ordinates and execute the cell below to draw another line. \n",
    "\n",
    "`pmod_oled.clear()` should be called to clear the display if you do not want lines drawn on top of previous lines. If the bitstream is reloaded the display will also be cleared.  "
   ]
  },
  {
   "cell_type": "code",
   "execution_count": null,
   "metadata": {},
   "outputs": [],
   "source": [
    "pmod_oled.draw_line(0,0,128,32)"
   ]
  },
  {
   "cell_type": "code",
   "execution_count": null,
   "metadata": {},
   "outputs": [],
   "source": [
    "pmod_oled.draw_line(0,32,128,0)"
   ]
  },
  {
   "cell_type": "code",
   "execution_count": null,
   "metadata": {},
   "outputs": [],
   "source": [
    "pmod_oled.clear()\n",
    "pmod_oled.draw_line(64,0,64,32)"
   ]
  },
  {
   "cell_type": "markdown",
   "metadata": {},
   "source": [
    "Clear the display when finished. "
   ]
  },
  {
   "cell_type": "code",
   "execution_count": null,
   "metadata": {},
   "outputs": [],
   "source": [
    "pmod_oled.clear()"
   ]
  },
  {
   "cell_type": "markdown",
   "metadata": {},
   "source": [
    "### Draw a rectangle\n",
    "You can draw a rectangle in a similar way by specifying two co-ordinates: pmod_oled.draw_line(x1, y1, x2,y2). This will draw a rectangle using the two points as opposite corners"
   ]
  },
  {
   "cell_type": "code",
   "execution_count": null,
   "metadata": {},
   "outputs": [],
   "source": [
    "pmod_oled.draw_rect(60,5,80,25)"
   ]
  },
  {
   "cell_type": "code",
   "execution_count": null,
   "metadata": {},
   "outputs": [],
   "source": [
    "pmod_oled.draw_rect(105,0,120,28)"
   ]
  },
  {
   "cell_type": "markdown",
   "metadata": {},
   "source": [
    "Clear the display when finished."
   ]
  },
  {
   "cell_type": "code",
   "execution_count": null,
   "metadata": {},
   "outputs": [],
   "source": [
    "pmod_oled.clear()"
   ]
  },
  {
   "cell_type": "markdown",
   "metadata": {},
   "source": [
    "----\n",
    "## 새로운 파이썬 함수 만들기\n",
    "\n",
    "More functions could be implemented in the C code running on the IOP to generate other patterns. The existing functions can also be extended in Python to add more functionality. \n",
    "\n",
    "The following cell defines a function to draw circles on the PmodOLED."
   ]
  },
  {
   "cell_type": "code",
   "execution_count": null,
   "metadata": {},
   "outputs": [],
   "source": [
    "import math\n",
    "# Draw a circle\n",
    "# Screen resolution is 128x32\n",
    "def draw_circle(cx,cy, r):\n",
    "    for i in range (0, 360):\n",
    "        x = cx + r * math.cos(i*math.pi/180)\n",
    "        if(x > 127):\n",
    "            x = 127\n",
    "        if(x<0):\n",
    "            x = 0\n",
    "        y = cy + r * math.sin(i*math.pi/180)\n",
    "        if(y>31):\n",
    "            y = 31\n",
    "        if(y<0):\n",
    "            y = 0\n",
    "        pmod_oled.draw_line(int(x),int(y),int(x+1),int(y))"
   ]
  },
  {
   "cell_type": "markdown",
   "metadata": {},
   "source": [
    "### Draw the circle\n",
    "You can draw a circle by using the function which has just been created, and by specify a co-ordinate and the radius. "
   ]
  },
  {
   "cell_type": "code",
   "execution_count": null,
   "metadata": {},
   "outputs": [],
   "source": [
    "pmod_oled.clear()\n",
    "draw_circle(64,16,15)"
   ]
  },
  {
   "cell_type": "markdown",
   "metadata": {},
   "source": [
    "Remember the display is 128x32 pixels. If the circle exceeds the display area it will be clipped. "
   ]
  },
  {
   "cell_type": "code",
   "execution_count": null,
   "metadata": {},
   "outputs": [],
   "source": [
    "pmod_oled.clear()\n",
    "draw_circle(64,32,15)"
   ]
  },
  {
   "cell_type": "markdown",
   "metadata": {},
   "source": [
    "Additional functionality can be added easily in Python, but note that functions in Python will be slower than using the C functions running directly on the IOP. (In this case, the circle co-ordinates are calculated in Python, and the IOP draw_line() is called 360 times which is much slower than simply drawing a single line using the draw_line() function.)"
   ]
  },
  {
   "cell_type": "markdown",
   "metadata": {},
   "source": [
    "----\n",
    "## 모두 함께 사용하기\n",
    "Draw some patterns"
   ]
  },
  {
   "cell_type": "code",
   "execution_count": null,
   "metadata": {},
   "outputs": [],
   "source": [
    "pmod_oled.clear()\n",
    "\n",
    "pmod_oled.draw_line(0,0,128,32)\n",
    "\n",
    "pmod_oled.draw_rect(60,5,80,25)\n",
    "pmod_oled.draw_rect(105,0,120,28)\n",
    "\n",
    "draw_circle(16,16,16)"
   ]
  },
  {
   "cell_type": "code",
   "execution_count": null,
   "metadata": {},
   "outputs": [],
   "source": [
    "pmod_oled.clear()\n",
    "\n",
    "for i in range (0,9):\n",
    "    draw_circle(16,16,i*2)\n",
    "    \n",
    "for i in range (0,6):\n",
    "    draw_circle(48,16,1+i*3)\n",
    "\n",
    "for i in range (0,5):\n",
    "    draw_circle(80,16,i*4)\n",
    "    \n",
    "for i in range (0,4):\n",
    "    draw_circle(111,16,1+i*5)"
   ]
  }
 ],
 "metadata": {
  "kernelspec": {
   "display_name": "Python 3",
   "language": "python",
   "name": "python3"
  },
  "language_info": {
   "codemirror_mode": {
    "name": "ipython",
    "version": 3
   },
   "file_extension": ".py",
   "mimetype": "text/x-python",
   "name": "python",
   "nbconvert_exporter": "python",
   "pygments_lexer": "ipython3",
   "version": "3.6.5"
  }
 },
 "nbformat": 4,
 "nbformat_minor": 1
}
