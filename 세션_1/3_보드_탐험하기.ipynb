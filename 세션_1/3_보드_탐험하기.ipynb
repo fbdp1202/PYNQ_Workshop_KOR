{
 "cells": [
  {
   "cell_type": "markdown",
   "metadata": {},
   "source": [
    "# 보드 탐험하기\n",
    "\n",
    "----\n",
    "\n",
    "## 목차\n",
    "\n",
    "* [ARM A9 프로세서 서브시스템](#ARM-A9-프로세서-서브시스템)\n",
    "\n",
    "* [네트워크 상태](#네트워크-상태)\n",
    "\n",
    "* [운영체제](#운영체제)\n",
    "\n",
    "* [파이썬 세부사항](#파이썬-세부사항)\n",
    "\n",
    "\n",
    "----\n",
    "\n",
    "## 목표\n",
    "\n",
    "이 챕터의 목적은 Zynq 프로세싱 시스템과 기본 OS에 익숙해 지도록 돕는 것입니다. 기본 하드웨어 및 소프트웨어를 쿼리하고 PYNQ 이미지에 포함 된 패키지를 찾으려면 셸 명령과 Python 명령을 실행하는 방법을 살펴보십시오.\n",
    "\n",
    "## ARM A9 프로세서 서브시스템\n",
    "\n",
    "#### Note:\n",
    "\n",
    "`!`와 같이 bang 문자로 코드 셀을 시작하면 IPython REPL에게 그 라인의 코드를 OS 쉘 명령어로 취급하도록 지시합니다"
   ]
  },
  {
   "cell_type": "code",
   "execution_count": 1,
   "metadata": {
    "scrolled": true
   },
   "outputs": [
    {
     "name": "stdout",
     "output_type": "stream",
     "text": [
      "processor\t: 0\r\n",
      "model name\t: ARMv7 Processor rev 0 (v7l)\r\n",
      "BogoMIPS\t: 650.00\r\n",
      "Features\t: half thumb fastmult vfp edsp neon vfpv3 tls vfpd32 \r\n",
      "CPU implementer\t: 0x41\r\n",
      "CPU architecture: 7\r\n",
      "CPU variant\t: 0x3\r\n",
      "CPU part\t: 0xc09\r\n",
      "CPU revision\t: 0\r\n",
      "\r\n",
      "processor\t: 1\r\n",
      "model name\t: ARMv7 Processor rev 0 (v7l)\r\n",
      "BogoMIPS\t: 650.00\r\n",
      "Features\t: half thumb fastmult vfp edsp neon vfpv3 tls vfpd32 \r\n",
      "CPU implementer\t: 0x41\r\n",
      "CPU architecture: 7\r\n",
      "CPU variant\t: 0x3\r\n",
      "CPU part\t: 0xc09\r\n",
      "CPU revision\t: 0\r\n",
      "\r\n",
      "Hardware\t: Xilinx Zynq Platform\r\n",
      "Revision\t: 0003\r\n",
      "Serial\t\t: 0000000000000000\r\n"
     ]
    }
   ],
   "source": [
    "!cat /proc/cpuinfo"
   ]
  },
  {
   "cell_type": "markdown",
   "metadata": {},
   "source": [
    "#### 사용가능한 DRAM ..."
   ]
  },
  {
   "cell_type": "code",
   "execution_count": 2,
   "metadata": {},
   "outputs": [
    {
     "name": "stdout",
     "output_type": "stream",
     "text": [
      "MemTotal:         508556 kB\r\n",
      "MemFree:           91592 kB\r\n",
      "MemAvailable:     371004 kB\r\n"
     ]
    }
   ],
   "source": [
    "!cat /proc/meminfo | grep 'Mem*'"
   ]
  },
  {
   "cell_type": "markdown",
   "metadata": {},
   "source": [
    "### 네트워크 상태"
   ]
  },
  {
   "cell_type": "markdown",
   "metadata": {},
   "source": [
    "#### 유선 이더넷 연결"
   ]
  },
  {
   "cell_type": "code",
   "execution_count": 3,
   "metadata": {
    "scrolled": true
   },
   "outputs": [
    {
     "name": "stdout",
     "output_type": "stream",
     "text": [
      "eth0: flags=4163<UP,BROADCAST,RUNNING,MULTICAST>  mtu 1500\r\n",
      "        inet 203.252.121.231  netmask 255.255.255.128  broadcast 203.252.121.255\r\n",
      "        inet6 fe80::205:6bff:fe00:c8ed  prefixlen 64  scopeid 0x20<link>\r\n",
      "        ether 00:05:6b:00:c8:ed  txqueuelen 1000  (Ethernet)\r\n",
      "        RX packets 89546  bytes 40395496 (40.3 MB)\r\n",
      "        RX errors 0  dropped 0  overruns 0  frame 0\r\n",
      "        TX packets 29595  bytes 18481276 (18.4 MB)\r\n",
      "        TX errors 0  dropped 0 overruns 0  carrier 0  collisions 0\r\n",
      "        device interrupt 29  base 0xb000  \r\n",
      "\r\n"
     ]
    }
   ],
   "source": [
    "!ifconfig eth0"
   ]
  },
  {
   "cell_type": "markdown",
   "metadata": {},
   "source": [
    "#### 로컬 호스트 이름 확인"
   ]
  },
  {
   "cell_type": "code",
   "execution_count": 4,
   "metadata": {},
   "outputs": [
    {
     "name": "stdout",
     "output_type": "stream",
     "text": [
      "chaeeon\r\n"
     ]
    }
   ],
   "source": [
    "!hostname"
   ]
  },
  {
   "cell_type": "markdown",
   "metadata": {},
   "source": [
    "### 운영체제\n",
    "\n",
    "#### 리눅스 버전 확인..."
   ]
  },
  {
   "cell_type": "code",
   "execution_count": 6,
   "metadata": {},
   "outputs": [
    {
     "name": "stdout",
     "output_type": "stream",
     "text": [
      "VERSION=\"2.4 (Provo)\"\r\n",
      "VERSION_ID=\"2.4\"\r\n",
      "VERSION_CODENAME=provo\r\n"
     ]
    }
   ],
   "source": [
    "!cat /etc/os-release | grep VERSION"
   ]
  },
  {
   "cell_type": "markdown",
   "metadata": {},
   "source": [
    "### 파이썬 세부사항\n",
    "\n",
    "#### 내용\n",
    "\n",
    "Pynq 사용시 보통 Shell 스크립트보다 파이썬 스크립트를 사용합니다. "
   ]
  },
  {
   "cell_type": "code",
   "execution_count": 8,
   "metadata": {},
   "outputs": [
    {
     "name": "stdout",
     "output_type": "stream",
     "text": [
      "\n",
      "파이썬 버전:\n",
      " 3.6.5 (default, Apr  1 2018, 05:46:30) \n",
      "[GCC 7.3.0] \n",
      "\n",
      "파이썬 플랫폼:\n",
      "linux\n",
      "\n"
     ]
    }
   ],
   "source": [
    "import sys\n",
    "\n",
    "print('\\n파이썬 버전:\\n {} \\n\\n파이썬 플랫폼:\\n{}\\n'.format(sys.version, sys.platform))"
   ]
  },
  {
   "cell_type": "code",
   "execution_count": 9,
   "metadata": {
    "scrolled": true
   },
   "outputs": [
    {
     "name": "stdout",
     "output_type": "stream",
     "text": [
      "파이썬 경로 설정:\n",
      "\n",
      "/usr/lib/python36.zip\n",
      "/usr/lib/python3.6\n",
      "/usr/lib/python3.6/lib-dynload\n",
      "/usr/local/lib/python3.6/dist-packages\n",
      "/usr/lib/python3/dist-packages\n",
      "/usr/lib/python3/dist-packages/IPython/extensions\n",
      "/root/.ipython\n"
     ]
    }
   ],
   "source": [
    "print ('파이썬 경로 설정:')\n",
    "for path_entry in sys.path:\n",
    "    print(path_entry)"
   ]
  },
  {
   "cell_type": "code",
   "execution_count": 20,
   "metadata": {},
   "outputs": [
    {
     "name": "stdout",
     "output_type": "stream",
     "text": [
      "/bin/sh: 1: pip3.6: not found\r\n"
     ]
    }
   ],
   "source": [
    "# 현재 설치된 모든 파이썬 패키지 목록\n",
    "!pip3.6 list --format=columns"
   ]
  },
  {
   "cell_type": "code",
   "execution_count": 21,
   "metadata": {
    "scrolled": true
   },
   "outputs": [],
   "source": [
    "# On being 'Pythonic'\n",
    "import this"
   ]
  }
 ],
 "metadata": {
  "kernelspec": {
   "display_name": "Python 3",
   "language": "python",
   "name": "python3"
  },
  "language_info": {
   "codemirror_mode": {
    "name": "ipython",
    "version": 3
   },
   "file_extension": ".py",
   "mimetype": "text/x-python",
   "name": "python",
   "nbconvert_exporter": "python",
   "pygments_lexer": "ipython3",
   "version": "3.6.5"
  }
 },
 "nbformat": 4,
 "nbformat_minor": 1
}
