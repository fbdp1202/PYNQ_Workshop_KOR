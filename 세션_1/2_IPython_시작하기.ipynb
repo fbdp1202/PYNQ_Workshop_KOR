{
 "cells": [
  {
   "cell_type": "markdown",
   "metadata": {},
   "source": [
    "# IPython 시작하기\n",
    "\n",
    "----\n",
    "\n",
    "* [목표](#목표)\n",
    "\n",
    "\n",
    "* [OS 숼 명령 실행](#OS-숼-명령-실행)\n",
    "\n",
    "\n",
    "* [IPython에 대한 도움말 보기](#IPython에-대한-도움말-보기)\n",
    "\n",
    "\n",
    "* [만약 기억하지 못하면 ...?](#만약-기억하지-못하면-...?)\n",
    "\n",
    "\n",
    "* [%quickref](#%quickref)\n",
    "\n",
    "\n",
    "* [The IPython magic commands](#The-IPython-magic-commands)\n",
    "\n",
    "\n",
    "* [IPython으로 소프트웨어 introspection](#IPython으로-소프트웨어-introspection)\n",
    "\n",
    "\n",
    "----\n",
    "\n",
    "## 목표\n",
    "\n",
    "이 노트북의 목적은 IPython (Interactive Python) REPL의 가장 중요한 기능을 익히는 것입니다.\n",
    "`REPL`이라는 용어는`shell`과 동의어입니다 :\n",
    "\n",
    "> 높은 수준의 상호작용 또는 언어 셀로도 알려져있는 REPL (read-eval-print loop)은 단일 사용자 입력 (예 : 단일 표현식)을 사용하여 평가하고 사용자에게 결과를 반환하는 간단한 대화형 컴퓨터 프로그래밍 환경입니다.\n",
    "\n",
    "[wikipedia](https://en.wikipedia.org/wiki/Read–eval–print_loop)"
   ]
  },
  {
   "cell_type": "markdown",
   "metadata": {},
   "source": [
    "### OS 숼 명령 실행"
   ]
  },
  {
   "cell_type": "markdown",
   "metadata": {},
   "source": [
    "IPython REPL의 가장 보편적인 사용은 어떤 노트북의 `code` 셀에서 직접 OS 쉘 명령을 실행하는 것입니다.\n",
    "\n",
    "모든 `코드` 셀 내에서 '!'로 시작하는 명령은 (\"bang\" 문자라고도하는 느낌표)는 운영 체제 쉘로 재 지정됩니다. PYNQ는 리눅스를 실행하기 때문에 우리는`bash` 쉘을 기본값으로 사용합니다.\n",
    "\n",
    "다음은 간단한 예입니다."
   ]
  },
  {
   "cell_type": "code",
   "execution_count": 4,
   "metadata": {},
   "outputs": [
    {
     "name": "stdout",
     "output_type": "stream",
     "text": [
      "/home/sdsoc/yc_ws/pynq/PYNQ_Workshop_KOR/세션_1\r\n"
     ]
    }
   ],
   "source": [
    "!pwd"
   ]
  },
  {
   "cell_type": "code",
   "execution_count": 5,
   "metadata": {},
   "outputs": [
    {
     "name": "stdout",
     "output_type": "stream",
     "text": [
      "sdsoc    :0           2019-07-10 14:01 (:0)\r\n",
      "sdsoc    pts/1        2019-07-10 14:11 (:0)\r\n"
     ]
    }
   ],
   "source": [
    "!who"
   ]
  },
  {
   "cell_type": "code",
   "execution_count": 6,
   "metadata": {},
   "outputs": [
    {
     "name": "stdout",
     "output_type": "stream",
     "text": [
      "./PYNQ_Workshop_First_steps.pdf\r\n"
     ]
    }
   ],
   "source": [
    "!find -name \"*PYNQ*\""
   ]
  },
  {
   "cell_type": "markdown",
   "metadata": {},
   "source": [
    "### IPython에 대한 도움말 보기"
   ]
  },
  {
   "cell_type": "markdown",
   "metadata": {},
   "source": [
    "IPython에는 많은 유용한 기능이 있습니다. 그러나 모든 기능을 알고 있거나 기억할 필요는 없습니다. 매우 포괄적인 도움말 시스템이 항상 제공됩니다."
   ]
  },
  {
   "cell_type": "markdown",
   "metadata": {},
   "source": [
    "### 만약 기억하지 못하면 ...`?`"
   ]
  },
  {
   "cell_type": "markdown",
   "metadata": {},
   "source": [
    "다음 명령은 IPython을 배우는 동안 발생할 수 있는 대부분의 질문에 대한 답을 찾는 데 도움을 줍니다."
   ]
  },
  {
   "cell_type": "markdown",
   "metadata": {},
   "source": [
    "코드 셀에서`?`를 실행하면 아래 내용과 같이 IPython을 설명하는 창이 팝업됩니다 :\n",
    "\n",
    "\n",
    "```\n",
    "IPython -- An enhanced Interactive Python\n",
    "=========================================\n",
    "\n",
    "IPython offers a combination of convenient shell features, special commands\n",
    "and a history mechanism for both input (command history) and output (results\n",
    "caching, similar to Mathematica). It is intended to be a fully compatible\n",
    "replacement for the standard Python interpreter, while offering vastly\n",
    "improved functionality and flexibility.\n",
    "\n",
    "At your system command line, type 'ipython -h' to see the command line\n",
    "options available. This document only describes interactive features.\n",
    "\n",
    "MAIN FEATURES\n",
    "-------------\n",
    "\n",
    "* Access to the standard Python help. As of Python 2.1, a help system is\n",
    "  available with access to object docstrings and the Python manuals. Simply\n",
    "  type 'help' (no quotes) to access it.\n",
    "\n",
    "* Magic commands: type %magic for information on the magic subsystem.\n",
    "\n",
    "* System command aliases, via the %alias command or the configuration file(s).\n",
    "...\n",
    "```\n"
   ]
  },
  {
   "cell_type": "markdown",
   "metadata": {},
   "source": [
    "#### 직접 해보십시오.:"
   ]
  },
  {
   "cell_type": "code",
   "execution_count": 7,
   "metadata": {},
   "outputs": [],
   "source": [
    "?"
   ]
  },
  {
   "cell_type": "markdown",
   "metadata": {},
   "source": [
    "### `%quickref`"
   ]
  },
  {
   "cell_type": "markdown",
   "metadata": {},
   "source": [
    "%quickref 명령은 IPython _magic 함수_ 의 한 예입니다. IPython _magics_은 IPython 패키지의 핵심 부분 인 특수 함수입니다. IPython 인터프리터의 강력한 기능은 적절한 마법을 호출하여 액세스 할 수 있습니다. 우리는 magic 함수의 많은 예들을 볼 것입니다."
   ]
  },
  {
   "cell_type": "markdown",
   "metadata": {},
   "source": [
    "코드 셀에서`%quickref`를 실행하면 사용 가능한 모든 IPython 명령을 요약 한 창이 나타납니다. 다음은 `%quickref` 실행의 결과입니다.\n",
    "\n",
    "```\n",
    "IPython -- An enhanced Interactive Python - Quick Reference Card\n",
    "================================================================\n",
    "\n",
    "obj?, obj??      : Get help, or more help for object (also works as\n",
    "                   ?obj, ??obj).\n",
    "?foo.*abc*       : List names in 'foo' containing 'abc' in them.\n",
    "%magic           : Information about IPython's 'magic' % functions.\n",
    "\n",
    "Magic functions are prefixed by % or %%, and typically take their arguments\n",
    "without parentheses, quotes or even commas for convenience.  Line magics take a\n",
    "single % and cell magics are prefixed with two %%.\n",
    "\n",
    "Example magic function calls:\n",
    "\n",
    "%alias d ls -F   : 'd' is now an alias for 'ls -F'\n",
    "alias d ls -F    : Works if 'alias' not a python name\n",
    "alist = %alias   : Get list of aliases to 'alist'\n",
    "cd /usr/share    : Obvious. cd -<tab> to choose from visited dirs.\n",
    "%cd??            : See help AND source for magic %cd\n",
    "%timeit x=10     : time the 'x=10' statement with high precision.\n",
    "...\n",
    "\n",
    "```"
   ]
  },
  {
   "cell_type": "markdown",
   "metadata": {},
   "source": [
    "#### 직접 해보십시오.:"
   ]
  },
  {
   "cell_type": "code",
   "execution_count": null,
   "metadata": {},
   "outputs": [],
   "source": [
    "%quickref"
   ]
  },
  {
   "cell_type": "markdown",
   "metadata": {},
   "source": [
    "### The IPython _magic_ commands"
   ]
  },
  {
   "cell_type": "markdown",
   "metadata": {},
   "source": [
    "IPython 마법에 대해 더 자세히 알고 싶다면, `%magic`을 입력하십시오. 다음은 사용 가능한 모든 IPython 마법 함수의 요약한 부분입니다:\n",
    "\n",
    "```\n",
    "IPython's 'magic' functions\n",
    "===========================\n",
    "\n",
    "The magic function system provides a series of functions which allow you to\n",
    "control the behavior of IPython itself, plus a lot of system-type\n",
    "features. There are two kinds of magics, line-oriented and cell-oriented.\n",
    "\n",
    "Line magics are prefixed with the % character and work much like OS\n",
    "command-line calls: they get as an argument the rest of the line, where\n",
    "arguments are passed without parentheses or quotes.  For example, this will\n",
    "time the given statement::\n",
    "\n",
    "        %timeit range(1000)\n",
    "```"
   ]
  },
  {
   "cell_type": "markdown",
   "metadata": {},
   "source": [
    "#### 직접 해보십시오.:"
   ]
  },
  {
   "cell_type": "code",
   "execution_count": null,
   "metadata": {},
   "outputs": [],
   "source": [
    "%magic"
   ]
  },
  {
   "cell_type": "markdown",
   "metadata": {},
   "source": [
    "사용 가능한 마법 목록을 얻으려면`%lsmagics`를 실행하십시오."
   ]
  },
  {
   "cell_type": "code",
   "execution_count": 8,
   "metadata": {},
   "outputs": [
    {
     "data": {
      "application/json": {
       "cell": {
        "!": "OSMagics",
        "HTML": "Other",
        "SVG": "Other",
        "bash": "Other",
        "capture": "ExecutionMagics",
        "debug": "ExecutionMagics",
        "file": "Other",
        "html": "DisplayMagics",
        "javascript": "DisplayMagics",
        "js": "DisplayMagics",
        "latex": "DisplayMagics",
        "markdown": "DisplayMagics",
        "perl": "Other",
        "prun": "ExecutionMagics",
        "pypy": "Other",
        "python": "Other",
        "python2": "Other",
        "python3": "Other",
        "ruby": "Other",
        "script": "ScriptMagics",
        "sh": "Other",
        "svg": "DisplayMagics",
        "sx": "OSMagics",
        "system": "OSMagics",
        "time": "ExecutionMagics",
        "timeit": "ExecutionMagics",
        "writefile": "OSMagics"
       },
       "line": {
        "alias": "OSMagics",
        "alias_magic": "BasicMagics",
        "autocall": "AutoMagics",
        "automagic": "AutoMagics",
        "autosave": "KernelMagics",
        "bookmark": "OSMagics",
        "cat": "Other",
        "cd": "OSMagics",
        "clear": "KernelMagics",
        "colors": "BasicMagics",
        "config": "ConfigMagics",
        "connect_info": "KernelMagics",
        "cp": "Other",
        "debug": "ExecutionMagics",
        "dhist": "OSMagics",
        "dirs": "OSMagics",
        "doctest_mode": "BasicMagics",
        "ed": "Other",
        "edit": "KernelMagics",
        "env": "OSMagics",
        "gui": "BasicMagics",
        "hist": "Other",
        "history": "HistoryMagics",
        "killbgscripts": "ScriptMagics",
        "ldir": "Other",
        "less": "KernelMagics",
        "lf": "Other",
        "lk": "Other",
        "ll": "Other",
        "load": "CodeMagics",
        "load_ext": "ExtensionMagics",
        "loadpy": "CodeMagics",
        "logoff": "LoggingMagics",
        "logon": "LoggingMagics",
        "logstart": "LoggingMagics",
        "logstate": "LoggingMagics",
        "logstop": "LoggingMagics",
        "ls": "Other",
        "lsmagic": "BasicMagics",
        "lx": "Other",
        "macro": "ExecutionMagics",
        "magic": "BasicMagics",
        "man": "KernelMagics",
        "matplotlib": "PylabMagics",
        "mkdir": "Other",
        "more": "KernelMagics",
        "mv": "Other",
        "notebook": "BasicMagics",
        "page": "BasicMagics",
        "pastebin": "CodeMagics",
        "pdb": "ExecutionMagics",
        "pdef": "NamespaceMagics",
        "pdoc": "NamespaceMagics",
        "pfile": "NamespaceMagics",
        "pinfo": "NamespaceMagics",
        "pinfo2": "NamespaceMagics",
        "pip": "BasicMagics",
        "popd": "OSMagics",
        "pprint": "BasicMagics",
        "precision": "BasicMagics",
        "profile": "BasicMagics",
        "prun": "ExecutionMagics",
        "psearch": "NamespaceMagics",
        "psource": "NamespaceMagics",
        "pushd": "OSMagics",
        "pwd": "OSMagics",
        "pycat": "OSMagics",
        "pylab": "PylabMagics",
        "qtconsole": "KernelMagics",
        "quickref": "BasicMagics",
        "recall": "HistoryMagics",
        "rehashx": "OSMagics",
        "reload_ext": "ExtensionMagics",
        "rep": "Other",
        "rerun": "HistoryMagics",
        "reset": "NamespaceMagics",
        "reset_selective": "NamespaceMagics",
        "rm": "Other",
        "rmdir": "Other",
        "run": "ExecutionMagics",
        "save": "CodeMagics",
        "sc": "OSMagics",
        "set_env": "OSMagics",
        "store": "StoreMagics",
        "sx": "OSMagics",
        "system": "OSMagics",
        "tb": "ExecutionMagics",
        "time": "ExecutionMagics",
        "timeit": "ExecutionMagics",
        "unalias": "OSMagics",
        "unload_ext": "ExtensionMagics",
        "who": "NamespaceMagics",
        "who_ls": "NamespaceMagics",
        "whos": "NamespaceMagics",
        "xdel": "NamespaceMagics",
        "xmode": "BasicMagics"
       }
      },
      "text/plain": [
       "Available line magics:\n",
       "%alias  %alias_magic  %autocall  %automagic  %autosave  %bookmark  %cat  %cd  %clear  %colors  %config  %connect_info  %cp  %debug  %dhist  %dirs  %doctest_mode  %ed  %edit  %env  %gui  %hist  %history  %killbgscripts  %ldir  %less  %lf  %lk  %ll  %load  %load_ext  %loadpy  %logoff  %logon  %logstart  %logstate  %logstop  %ls  %lsmagic  %lx  %macro  %magic  %man  %matplotlib  %mkdir  %more  %mv  %notebook  %page  %pastebin  %pdb  %pdef  %pdoc  %pfile  %pinfo  %pinfo2  %popd  %pprint  %precision  %profile  %prun  %psearch  %psource  %pushd  %pwd  %pycat  %pylab  %qtconsole  %quickref  %recall  %rehashx  %reload_ext  %rep  %rerun  %reset  %reset_selective  %rm  %rmdir  %run  %save  %sc  %set_env  %store  %sx  %system  %tb  %time  %timeit  %unalias  %unload_ext  %who  %who_ls  %whos  %xdel  %xmode\n",
       "\n",
       "Available cell magics:\n",
       "%%!  %%HTML  %%SVG  %%bash  %%capture  %%debug  %%file  %%html  %%javascript  %%js  %%latex  %%markdown  %%perl  %%prun  %%pypy  %%python  %%python2  %%python3  %%ruby  %%script  %%sh  %%svg  %%sx  %%system  %%time  %%timeit  %%writefile\n",
       "\n",
       "Automagic is ON, % prefix IS NOT needed for line magics."
      ]
     },
     "execution_count": 8,
     "metadata": {},
     "output_type": "execute_result"
    }
   ],
   "source": [
    "%lsmagic"
   ]
  },
  {
   "cell_type": "markdown",
   "metadata": {},
   "source": [
    "각 마법 함수에 대한 자세한 정보를 얻으려면 '?' 마법의 시작 또는 끝으로 이동하여 코드 셀에서 실행합니다.\n",
    "\n",
    "예를 들어,`?%pdoc` 또는`%pdoc?`를 입력하면 다음을 볼 수 있습니다.\n",
    "\n",
    "```\n",
    "Docstring:\n",
    "Print the docstring for an object.\n",
    "\n",
    "If the given object is a class, it will print both the class and the\n",
    "constructor docstrings.\n",
    "File:      /usr/local/lib/python3.4/dist-packages/IPython/core/magics/namespace.py\n",
    "```"
   ]
  },
  {
   "cell_type": "markdown",
   "metadata": {},
   "source": [
    "#### 직접 해보십시오.:"
   ]
  },
  {
   "cell_type": "code",
   "execution_count": 9,
   "metadata": {},
   "outputs": [],
   "source": [
    "%pdoc?"
   ]
  },
  {
   "cell_type": "markdown",
   "metadata": {},
   "source": [
    "### IPython으로 소프트웨어 introspection"
   ]
  },
  {
   "cell_type": "markdown",
   "metadata": {},
   "source": [
    "IPython은 모든 활성 Python 객체에 대해 보다 강력한 도움말 도구를 제공합니다. 모든 객체에서 _software introspection_을 활성화하여 속성 및 기능에 대해 자세히 알아볼 수 있습니다.\n",
    "\n",
    "아래에서 오른쪽에서 왼쪽으로 스캔 할 때와 같이 왼쪽에서 오른쪽으로 스캔 할 때 같은 것을 읽는 문자열 인 구문 검색을 검사하는 간단한 Python 스크립트를 사용하여 이를 보여줍니다.\n"
   ]
  },
  {
   "cell_type": "code",
   "execution_count": 12,
   "metadata": {},
   "outputs": [
    {
     "name": "stdout",
     "output_type": "stream",
     "text": [
      "확인하려는 패턴을 회문으로 입력하십시오: able was i ere i saw elba\n",
      "\n",
      "맞아 ... \"able was i ere i saw elba\"  는(은) 회문이다\n"
     ]
    }
   ],
   "source": [
    "\"\"\"대소 문자를 구별하고 공백으로 구분되는 회문(palindrome) 확인\"\"\" \n",
    "\n",
    "from math import floor\n",
    "\n",
    "pattern = input('확인하려는 패턴을 회문으로 입력하십시오: ')\n",
    "if pattern == (pattern[::-1]):\n",
    "    print ('\\n맞아 ... \"{}\"  는(은) 회문이다'.format(pattern))\n",
    "else:\n",
    "    print ('\\n아니 ... \"{}\"  는(은) 회문이 아니다'.format(pattern))\n",
    "    length = len(pattern)\n",
    "    mid_pos = floor(length/2)\n",
    "    for i, char in enumerate(pattern):\n",
    "        i_dual = length - 1 - i\n",
    "        if i < mid_pos:\n",
    "            if pattern[i] != pattern[i_dual]:\n",
    "                print('{}의 위치한 \\'{}\\' 캐릭터는 {}의 위치한 캐릭터 \\'{}\\'와 맞지 않는다. '.\n",
    "                    format(i+1, pattern[i], length-i, pattern[i_dual]))\n",
    "        else:\n",
    "            break  # All inconsistent chars on LHS and RHS identified\n",
    "            "
   ]
  },
  {
   "cell_type": "markdown",
   "metadata": {},
   "source": [
    "IPython의 _software introspection_ 기능을 사용하면 코드 셀에서 객체 이름 뒤에 '?'를 실행하여 더 많은 라이브러리 객체와 로컬 객체를 찾을 수 있습니다.\n",
    "\n",
    "예를 들어, 테스트 문자열 'able was i ere i saw elba.'(워털루에서의 패배 이후 엘바 섬으로 추방 된 나폴레옹에 기인 한 것임)와 함께 회문 스크립트를 실행하고 다음과 같이 이 객체를 검사합니다.\n",
    "\n",
    "`pattern?`\n",
    "\n",
    "`mid_pos?`\n",
    "\n",
    "`floor?`"
   ]
  },
  {
   "cell_type": "markdown",
   "metadata": {},
   "source": [
    "#### 직접 해보십시오.:"
   ]
  },
  {
   "cell_type": "code",
   "execution_count": 13,
   "metadata": {},
   "outputs": [],
   "source": [
    "pattern?"
   ]
  },
  {
   "cell_type": "code",
   "execution_count": 14,
   "metadata": {},
   "outputs": [
    {
     "name": "stdout",
     "output_type": "stream",
     "text": [
      "Object `mid_pos` not found.\n"
     ]
    }
   ],
   "source": [
    "mid_pos?"
   ]
  },
  {
   "cell_type": "code",
   "execution_count": 8,
   "metadata": {},
   "outputs": [],
   "source": [
    "floor?"
   ]
  }
 ],
 "metadata": {
  "kernelspec": {
   "display_name": "Python 3",
   "language": "python",
   "name": "python3"
  },
  "language_info": {
   "codemirror_mode": {
    "name": "ipython",
    "version": 3
   },
   "file_extension": ".py",
   "mimetype": "text/x-python",
   "name": "python",
   "nbconvert_exporter": "python",
   "pygments_lexer": "ipython3",
   "version": "3.4.3"
  }
 },
 "nbformat": 4,
 "nbformat_minor": 1
}
