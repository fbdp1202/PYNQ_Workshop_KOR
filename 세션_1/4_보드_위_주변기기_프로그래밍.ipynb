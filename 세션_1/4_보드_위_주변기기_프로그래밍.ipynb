{
 "cells": [
  {
   "cell_type": "markdown",
   "metadata": {},
   "source": [
    "# 보드 위 주변기기 프로그래밍"
   ]
  },
  {
   "cell_type": "markdown",
   "metadata": {},
   "source": [
    "## LEDs, switches and buttons\n",
    "이 노트북은 PYNQ-Z1 또는 PYNQ-Z2와 함께 실행할 수 있습니다. 두 보드 모두 Zynq의 프로그래머블 로직에 연결된 4개의 녹색 LED (LD0-3), 2개의 멀티 컬러 LED (LD4-5), 2개의 슬라이드 스위치 (SW0-1) 및 4개의 푸시 버튼 (BTN0-3)이 있습니다."
   ]
  },
  {
   "cell_type": "markdown",
   "metadata": {},
   "source": [
    "보드에는 추가적으로 푸쉬 버튼 및 LED가 있지만 특정 기능 (전원 LED, PS 재설정 버튼 등)에 사용되며 사용자가 액세스 할 수 없습니다.\n",
    "\n",
    "IO는 Python에서 직접 제어 할 수 있습니다. 이를 증명하기 위해 먼저 pynq.board 모듈에서 LED, Switch 및 Button 클래스를 가져옵니다."
   ]
  },
  {
   "cell_type": "code",
   "execution_count": null,
   "metadata": {},
   "outputs": [],
   "source": [
    "from pynq.overlays.base import BaseOverlay\n",
    "base = BaseOverlay(\"base.bit\")"
   ]
  },
  {
   "cell_type": "markdown",
   "metadata": {},
   "source": [
    "## LED 제어\n",
    "이제 우리는 이러한 클래스 각각의 인스턴스를 생성하고 메소드를 사용하여 클래스를 조작 할 수 있습니다. 단일 LED를 인스턴스화하고 LED를 켜고 끄는 것으로 시작해 보겠습니다."
   ]
  },
  {
   "cell_type": "code",
   "execution_count": null,
   "metadata": {},
   "outputs": [],
   "source": [
    "from pynq.lib import LED, Switch, Button"
   ]
  },
  {
   "cell_type": "code",
   "execution_count": null,
   "metadata": {},
   "outputs": [],
   "source": [
    "led0 = base.leds[0]"
   ]
  },
  {
   "cell_type": "code",
   "execution_count": null,
   "metadata": {},
   "outputs": [],
   "source": [
    "led0.on()"
   ]
  },
  {
   "cell_type": "markdown",
   "metadata": {},
   "source": [
    "보드를 점검하고 LED가 켜져 있는지 확인하십시오."
   ]
  },
  {
   "cell_type": "code",
   "execution_count": null,
   "metadata": {},
   "outputs": [],
   "source": [
    "led0.off()"
   ]
  },
  {
   "cell_type": "markdown",
   "metadata": {},
   "source": [
    "그런 다음 _time_ 패키지의 sleep() 메소드를 사용하여 _led0_을 토글하여 LED가 깜박이는지 확인하십시오."
   ]
  },
  {
   "cell_type": "code",
   "execution_count": null,
   "metadata": {},
   "outputs": [],
   "source": [
    "import time\n",
    "led0 = base.leds[0]\n",
    "for i in range(20):\n",
    "    led0.toggle()\n",
    "    time.sleep(.1)"
   ]
  },
  {
   "cell_type": "markdown",
   "metadata": {},
   "source": [
    "## 예시 : 모든 LED, 스위치 및 버튼 제어\n",
    "\n",
    "\n",
    "아래 예제에서는 _leds_, _switches_ 및 _buttons_라는 3 개의 개별 목록을 만듭니다."
   ]
  },
  {
   "cell_type": "code",
   "execution_count": null,
   "metadata": {},
   "outputs": [],
   "source": [
    "# Set the number of Switches\n",
    "MAX_LEDS =4\n",
    "MAX_SWITCHES = 2\n",
    "MAX_BUTTONS = 4\n",
    "\n",
    "leds = [base.leds[index]) for index in range(MAX_LEDS)]\n",
    "switches = [base.switches[index]) for index in range(MAX_SWITCHES)] \n",
    "buttons = [base.buttons[index]) for index in range(MAX_BUTTONS)] \n",
    "\n",
    "# Create lists for each of the IO component groups\n",
    "for i in range(MAX_LEDS):\n",
    "    leds[i] = base.leds[i])              \n",
    "for i in range(MAX_SWITCHES):\n",
    "    switches[i] = base.switches[i])      \n",
    "for i in range(MAX_BUTTONS):\n",
    "    buttons[i] = base.buttons[i]) "
   ]
  },
  {
   "cell_type": "markdown",
   "metadata": {},
   "source": [
    "먼저, 모든 LED가 꺼짐으로 설정됩니다. 그런 다음 각 스위치를 읽고 스위치가 켜짐 위치에 있으면 해당 LED가 켜집니다. 이 셀을 몇 번 실행하여 보드의 스위치 위치를 변경할 수 있습니다."
   ]
  },
  {
   "cell_type": "code",
   "execution_count": null,
   "metadata": {},
   "outputs": [],
   "source": [
    "# LEDs start in the off state\n",
    "for i in range(MAX_LEDS):\n",
    "    leds[i].off()\n",
    "\n",
    "# if a slide-switch is on, light the corresponding LED\n",
    "for i in range(MAX_LEDS):                  \n",
    "    if switches[i%2].read():                                    \n",
    "        leds[i].on()\n",
    "    else:\n",
    "        leds[i].off()"
   ]
  },
  {
   "cell_type": "markdown",
   "metadata": {},
   "source": [
    "마지막 부분은 누름 단추를 누르면 해당 LED (켜짐 또는 꺼짐)를 토글합니다. 매번 다른 푸시 버튼을 몇 번 누르면이 셀을 몇 번 실행할 수 있습니다."
   ]
  },
  {
   "cell_type": "code",
   "execution_count": null,
   "metadata": {},
   "outputs": [],
   "source": [
    "# if a button is depressed, toggle the state of the corresponding LED\n",
    "for i in range(MAX_LEDS):\n",
    "    if buttons[i].read():\n",
    "        leds[i].toggle()"
   ]
  },
  {
   "cell_type": "markdown",
   "metadata": {},
   "source": [
    "## 다음 단계\n",
    "\n",
    "시간이 있다면 자신의 프로그램을 작성하십시오:\n",
    "1. 버튼을 누를 때 단일 LED 켜기 / 끄기\n",
    "2. 다른 버튼을 누르면 LED 패턴을 전환합니다 (시프트 방향은 딥 스위치의 값으로 결정됨)\n",
    "3. 다른 버튼을 누르면 LED가 5 초간 토글 / 플래쉬됩니다.\n",
    "4. 마지막 버튼을 누를 때 토글 사이의 지연을 변경하십시오."
   ]
  },
  {
   "cell_type": "code",
   "execution_count": null,
   "metadata": {},
   "outputs": [],
   "source": []
  }
 ],
 "metadata": {
  "celltoolbar": "Raw Cell Format",
  "kernelspec": {
   "display_name": "Python 3",
   "language": "python",
   "name": "python3"
  },
  "language_info": {
   "codemirror_mode": {
    "name": "ipython",
    "version": 3
   },
   "file_extension": ".py",
   "mimetype": "text/x-python",
   "name": "python",
   "nbconvert_exporter": "python",
   "pygments_lexer": "ipython3",
   "version": "3.4.3"
  }
 },
 "nbformat": 4,
 "nbformat_minor": 1
}
