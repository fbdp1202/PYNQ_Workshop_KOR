{
 "cells": [
  {
   "cell_type": "markdown",
   "metadata": {},
   "source": [
    "# 주피터 노트북 시작하기"
   ]
  },
  {
   "cell_type": "markdown",
   "metadata": {},
   "source": [
    "## 목차"
   ]
  },
  {
   "cell_type": "markdown",
   "metadata": {},
   "source": [
    "* [목표](#목표)\n",
    "\n",
    "\n",
    "* [주피터의 셀 기반 인터페이스 안내](#주피터의-셀-기반-인터페이스-안내)\n",
    "\n",
    "\n",
    "* [마크다운 기초](#마크다운-기초)\n",
    "\n",
    "\n",
    "* [유튜브 비디오 포함하기](#유튜브-비디오-포함하기)\n",
    "\n",
    "\n",
    "* [파이썬의 도움되는 시스템](#파이썬의-도움되는-시스템)\n",
    "\n",
    "\n",
    "----\n",
    "\n",
    "## 목표"
   ]
  },
  {
   "cell_type": "markdown",
   "metadata": {},
   "source": [
    "이 쳅터의 목적은 주피터 노트북을 사용하여 신속하게 작동하도록 하는 것이다. 주피터 노트북을 효과적을 효과적으로 사용하기 위해 필요한 요소는 다음과 같다.\n",
    "\n",
    "* 노트북의 브라우저 기반 인터페이스\n",
    "\n",
    "\n",
    "* 마크다운으로 텍스트 쓰기\n",
    "\n",
    "\n",
    "* 파이썬 스크립트 작성 및 실행\n",
    "\n",
    "\n",
    "* IPython 인터프리터"
   ]
  },
  {
   "cell_type": "markdown",
   "metadata": {},
   "source": [
    "## 빠른 시작\n",
    "\n",
    "### 주피터 노트북\n",
    "\n",
    "이 환경은 주피터 노트북이다. 주피터 노트북은 라이브 코드, 방정식, 시각화 및 설명 텍스트가 포함 된 문서를 작성하고 공유 할 수 있게 해주는 웹 응용 프로그램이다. 사용에는 데이터 정리 및 변환, 수치 시뮬레이션, 통계 모델링, 기계 학습 등이 포함된다.\n",
    "\n",
    "노트북은 코드를 작성하거나 설명 메모와 주석을 기록하는데 사용되는 셀로 구성된다.\n",
    "노트북은 수정할 수 있는 작업중인 문서이다.\n",
    "편집을 시작하기 전에 원본 노트 사본을 저장하는 것이 좋다.\n",
    "\n",
    "이 작업은 파일 메뉴에서 **Make a copy... 를 선택하여 수행할 수 있다**. 새 사본에서 이 안내서를 계속하라.\n"
   ]
  },
  {
   "cell_type": "markdown",
   "metadata": {},
   "source": [
    "### 주피터의 셀 기반 인터페이스 안내"
   ]
  },
  {
   "cell_type": "markdown",
   "metadata": {},
   "source": [
    "주피터 노트북의 브라우저 기반 인터페이스에 대한 가장 빠른 소개는 노트북 자체에 내장되어 있다.\n",
    "\n",
    "![노트북 사용자 인터페이스 둘러보기](./images/Notebook_Tour.png)\n",
    "\n",
    "메뉴 툴바에서, 먼저 `Help`를 선택하고 위의 다이어그램과 같이 `User Interface Tour`를 선택하고, \n",
    "마우스 또는 오른쪽 및 왼쪽 키보드 키를 사용하여 노트북의 간단한 개요를 완성하라.\n",
    "\n",
    "The Notebook can be navigated using the tool and menu bars or using keyboard shortcuts.  A Notebook command palette with integrated search is activated by selecting the button with the keyboard option on the toolbar, as shown below,\n",
    "\n",
    "![명령 팔레트 버튼](./images/Command_Palette_Button.png)\n",
    "\n",
    "또는 `Ctrl` + `Shift` + `p` 키를 동시에 누르는 것이다. 명령 팔레트 자체는 아래와 같다.\n",
    "\n",
    "![명령 팔레트](./images/Command_Palette.png)"
   ]
  },
  {
   "cell_type": "markdown",
   "metadata": {},
   "source": [
    "----\n",
    "\n",
    "[목차](#목차)\n",
    "\n",
    "----"
   ]
  },
  {
   "cell_type": "markdown",
   "metadata": {},
   "source": [
    "### 마크다운 기초"
   ]
  },
  {
   "cell_type": "markdown",
   "metadata": {},
   "source": [
    "마크다운 구문을 사용하여 메모를 노트의 `Markdown` 셀에 쓸 수 있다. 표현력만 다른 인기있는 마크다운 언어가 다양하다는 점에 유의하라. 주피터 노트북이 지원하는 마크다운은 다음 섹션에서 설명한다. Github Flavor Markdown(GFM)과 비슷하지만 동일하지는 않다.\n",
    "\n",
    "이 셀은 **Markdown 셀이다**. 원시물을 보려면 더블 클릭하라.\n",
    "\n",
    "마크 다운을 렌더링하기 위해 셀을 실행하라.\n",
    "\n",
    "* Markdown 셀이라는 툴바의 드롭 다운 상자에 주목하라."
   ]
  },
  {
   "cell_type": "markdown",
   "metadata": {},
   "source": [
    "### 마크 다운 문법 예시"
   ]
  },
  {
   "cell_type": "markdown",
   "metadata": {},
   "source": [
    "[Headers](#Headers)  \n",
    "[Emphasis](#Emphasis)  \n",
    "[Lists](#Lists)  \n",
    "[Links](#Links)  \n",
    "[Images](#Images)  \n",
    "[Code and Syntax Highlighting](#code)  \n",
    "[Tables](#Tables)  \n",
    "[Blockquotes](#Blockquotes)  \n",
    "[Inline HTML](#Inline-HTML)  \n",
    "[Horizontal Rule](#Horizontal-Rule)  \n",
    "[Line Breaks](#Line-Breaks)  "
   ]
  },
  {
   "cell_type": "markdown",
   "metadata": {},
   "source": [
    "#### Headers"
   ]
  },
  {
   "cell_type": "markdown",
   "metadata": {},
   "source": [
    "# Header 1\n",
    "## Header 2\n",
    "### Header 3\n",
    "#### Header 4, etc"
   ]
  },
  {
   "cell_type": "markdown",
   "metadata": {},
   "source": [
    "#### Emphasis"
   ]
  },
  {
   "cell_type": "markdown",
   "metadata": {},
   "source": [
    "강조, 일명 이탤릭체. *별 문양* 또는 _밑줄_.\n",
    "\n",
    "강력한 강조, 일명 **별 문양** 또는 __밑줄__.\n",
    "\n",
    "이텍체와 강력한 강조가 합쳐진 경우 **별 문양 및 _밑줄_ 과 함께 강조**.\n",
    "\n",
    "취소 선은 두 개의 물결표를 사용합니다. ~~이것을 긁어 라.~~"
   ]
  },
  {
   "cell_type": "markdown",
   "metadata": {},
   "source": [
    "#### Lists"
   ]
  },
  {
   "cell_type": "markdown",
   "metadata": {},
   "source": [
    "1. 첫 주문 목록 항목\n",
    "2. 다른 항목\n",
    "  * 정렬되지 않은 하위 목록.\n",
    "1. 실제 숫자는 중요하지 않습니다. 숫자 일뿐입니다.\n",
    "  1. 정렬된 하위 목록\n",
    "4. 그리고 다른 항목."
   ]
  },
  {
   "cell_type": "markdown",
   "metadata": {},
   "source": [
    "#### Links"
   ]
  },
  {
   "cell_type": "markdown",
   "metadata": {},
   "source": [
    "[Google](https://www.google.com)\n",
    "\n"
   ]
  },
  {
   "cell_type": "markdown",
   "metadata": {},
   "source": [
    "#### Images"
   ]
  },
  {
   "cell_type": "markdown",
   "metadata": {},
   "source": [
    "![jupyter](http://jupyter.org/assets/nav_logo.svg)\n"
   ]
  },
  {
   "cell_type": "markdown",
   "metadata": {},
   "source": [
    "#### Python script highlighting"
   ]
  },
  {
   "cell_type": "markdown",
   "metadata": {},
   "source": [
    "우리는 하나의 back-tick을 사용하여 코드의 짧은 부분을 강조 표시하거나 더 긴 섹션을 묶는 세 쌍의 backtick 쌍을 강조 표시한다.\n",
    "\n",
    "__예제 1:__  \n",
    "파이썬 `print` 함수는 ...\n",
    "\n",
    "__예제 2:__\n",
    "```python\n",
    "\"\"\"대소 문자를 구별하고 공백으로 구분되는 회문(palindrome) 확인\"\"\" \n",
    "\n",
    "from math import floor\n",
    "\n",
    "pattern = input('확인하려는 패턴을 회문으로 입력하십시오: ')\n",
    "if pattern == (pattern[::-1]):\n",
    "    print ('\\n맞아 ... \"{}\"  는(은) 회문이다'.format(pattern))\n",
    "else:\n",
    "    print ('\\n아니 ... \"{}\"  는(은) 회문이 아니다'.format(pattern))\n",
    "    length = len(pattern)\n",
    "    mid_pos = floor(length/2)\n",
    "    for i, char in enumerate(pattern):\n",
    "        i_dual = length - 1 - i\n",
    "        if i < mid_pos:\n",
    "            if pattern[i] != pattern[i_dual]:\n",
    "                print('{}의 위치한 \\'{}\\' 캐릭터는 {}의 위치한 캐릭터 \\'{}\\'와 맞지 않는다. '.\n",
    "                    format(i+1, pattern[i], length-i, pattern[i_dual]))\n",
    "        else:\n",
    "            break  # 식별된 LHS와 RHS의 일치하지 않는 모든 문자\n",
    "```"
   ]
  },
  {
   "cell_type": "markdown",
   "metadata": {},
   "source": [
    "#### Tables"
   ]
  },
  {
   "cell_type": "markdown",
   "metadata": {},
   "source": [
    "| Heading 1     | Heading 2     | Heading 3  |\n",
    "|---------------|---------------|------------|\n",
    "| C1 R1         | C2 R1         | C3 R1      |\n",
    "| C1 R2         | C2 R2         | C3 R2      |\n",
    "| C1 R3         | C2 R3         | __C3 R3__      |\n"
   ]
  },
  {
   "cell_type": "markdown",
   "metadata": {},
   "source": [
    "#### Blockquotes"
   ]
  },
  {
   "cell_type": "markdown",
   "metadata": {},
   "source": [
    "> Blockquotes는 이메일에서 답장 텍스트를 에뮬레이션하는데 매우 편리합니다.\n",
    "> 이 줄은 같은 quote 안에 들어 있습니다.\n",
    "\n",
    "Quote break.\n",
    "\n",
    "> 이는 매우 긴 라인입니다. 이러한 줄 길이도 여전히 제대로 인용됩니다. 오, 소년은 이것이 실제로 모든 사람들이 감싸는데 충분한 길이인지를 확인하기 위해 글쓰기를 계속합니다. 오, **마크다운**도 *넣을 수* 있습니다."
   ]
  },
  {
   "cell_type": "markdown",
   "metadata": {},
   "source": [
    "#### Horizontal Rule"
   ]
  },
  {
   "cell_type": "markdown",
   "metadata": {},
   "source": [
    "---"
   ]
  },
  {
   "cell_type": "markdown",
   "metadata": {},
   "source": [
    "### Line Breaks"
   ]
  },
  {
   "cell_type": "markdown",
   "metadata": {},
   "source": [
    "```\n",
    "여기에 우리가 시작할 줄이 있습니다.\n",
    "\n",
    "이 줄은 위의 줄 바꿈과 두 개의 줄 바꿈으로 구분되므로 *별도의 단락* 이 됩니다.\n",
    "\n",
    "이 줄도 별도의 단락이지만, 하지만...\n",
    "이 줄은 하나의 줄 바꿈 문자로 구분되므로 *같은 단락*에 있는 별도의 줄입니다.\n",
    "```\n",
    "\n",
    "여기에 우리가 시작할 줄이 있습니다.\n",
    "\n",
    "이 줄은 위의 줄 바꿈과 두 개의 줄 바꿈으로 구분되므로 *별도의 단락* 이 됩니다.\n",
    "\n",
    "이 줄도 별도의 단락으로 시작하지만, 하지만...\n",
    "이 줄은 하나의 줄 바꿈 문자로 구분되므로 *같은 단락*에 있는 별도의 줄입니다."
   ]
  },
  {
   "cell_type": "markdown",
   "metadata": {},
   "source": [
    "### 유튜브 비디오 포함하기"
   ]
  },
  {
   "cell_type": "code",
   "execution_count": 1,
   "metadata": {},
   "outputs": [
    {
     "data": {
      "image/jpeg": "[encoded data removed]",
      "text/html": [
       "\n",
       "        <iframe\n",
       "            width=\"400\"\n",
       "            height=\"300\"\n",
       "            src=\"https://www.youtube.com/embed/7eQYZGf9--0\"\n",
       "            frameborder=\"0\"\n",
       "            allowfullscreen\n",
       "        ></iframe>\n",
       "        "
      ],
      "text/plain": [
       "<IPython.lib.display.YouTubeVideo at 0x7f83c021e4d0>"
      ]
     },
     "execution_count": 1,
     "metadata": {},
     "output_type": "execute_result"
    }
   ],
   "source": [
    "from IPython.display import YouTubeVideo\n",
    "YouTubeVideo('7eQYZGf9--0')"
   ]
  },
  {
   "cell_type": "markdown",
   "metadata": {},
   "source": [
    "----\n",
    "\n",
    "[목차](#목차)\n",
    "\n",
    "----"
   ]
  },
  {
   "cell_type": "markdown",
   "metadata": {},
   "source": [
    "### 파이썬의 도움되는 시스템"
   ]
  },
  {
   "cell_type": "markdown",
   "metadata": {},
   "source": [
    "파이썬 도움말 시스템은 광범위하다. 아래의 두 셀을 실행하여 두 가지 방법으로 액세스하라.\n",
    "\n",
    "__참고__ : 첫 번째 셀을 종료하려면 `quit`을 입력하라."
   ]
  },
  {
   "cell_type": "code",
   "execution_count": 2,
   "metadata": {
    "scrolled": false
   },
   "outputs": [
    {
     "name": "stdout",
     "output_type": "stream",
     "text": [
      "\n",
      "Welcome to Python 3.4's help utility!\n",
      "\n",
      "If this is your first time using Python, you should definitely check out\n",
      "the tutorial on the Internet at http://docs.python.org/3.4/tutorial/.\n",
      "\n",
      "Enter the name of any module, keyword, or topic to get help on writing\n",
      "Python programs and using Python modules.  To quit this help utility and\n",
      "return to the interpreter, just type \"quit\".\n",
      "\n",
      "To get a list of available modules, keywords, symbols, or topics, type\n",
      "\"modules\", \"keywords\", \"symbols\", or \"topics\".  Each module also comes\n",
      "with a one-line summary of what it does; to list the modules whose name\n",
      "or summary contain a given string such as \"spam\", type \"modules spam\".\n",
      "\n",
      "help> quit\n",
      "\n",
      "You are now leaving help and returning to the Python interpreter.\n",
      "If you want to ask for help on a particular object directly from the\n",
      "interpreter, you can type \"help(object)\".  Executing \"help('string')\"\n",
      "has the same effect as typing a particular string at the help> prompt.\n"
     ]
    }
   ],
   "source": [
    "help()"
   ]
  },
  {
   "cell_type": "code",
   "execution_count": null,
   "metadata": {
    "scrolled": true
   },
   "outputs": [],
   "source": [
    "help(range)"
   ]
  },
  {
   "cell_type": "markdown",
   "metadata": {},
   "source": [
    "----\n",
    "\n",
    "[Contents](#Contents)\n",
    "\n",
    "----"
   ]
  }
 ],
 "metadata": {
  "kernelspec": {
   "display_name": "Python 2",
   "language": "python",
   "name": "python2"
  },
  "language_info": {
   "codemirror_mode": {
    "name": "ipython",
    "version": 2
   },
   "file_extension": ".py",
   "mimetype": "text/x-python",
   "name": "python",
   "nbconvert_exporter": "python",
   "pygments_lexer": "ipython2",
   "version": "2.7.16"
  }
 },
 "nbformat": 4,
 "nbformat_minor": 1
}
