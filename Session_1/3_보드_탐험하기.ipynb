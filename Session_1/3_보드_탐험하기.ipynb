{
 "cells": [
  {
   "cell_type": "markdown",
   "metadata": {},
   "source": [
    "# 보드 탐험하기\n",
    "\n",
    "----\n",
    "\n",
    "## 목차\n",
    "\n",
    "* [ARM A9 프로세서 서브시스템](#ARM-A9-프로세서-서브시스템)\n",
    "\n",
    "* [네트워크 상태](#네트워크-상태)\n",
    "\n",
    "* [운영체제](#운영체제)\n",
    "\n",
    "* [파이썬 세부사항](#파이썬-세부사항)\n",
    "\n",
    "\n",
    "----\n",
    "\n",
    "## 목표\n",
    "\n",
    "이 챕터의 목적은 Zynq 프로세싱 시스템과 기본 OS에 익숙해 지도록 돕는 것입니다. 기본 하드웨어 및 소프트웨어를 쿼리하고 PYNQ 이미지에 포함 된 패키지를 찾으려면 셸 명령과 Python 명령을 실행하는 방법을 살펴보십시오.\n",
    "\n",
    "## ARM A9 프로세서 서브시스템\n",
    "\n",
    "#### Note:\n",
    "\n",
    "`!`와 같이 bang 문자로 코드 셀을 시작하면 IPython REPL에게 그 라인의 코드를 OS 쉘 명령어로 취급하도록 지시합니다"
   ]
  },
  {
   "cell_type": "code",
   "execution_count": null,
   "metadata": {
    "scrolled": true
   },
   "outputs": [],
   "source": [
    "!cat /proc/cpuinfo"
   ]
  },
  {
   "cell_type": "markdown",
   "metadata": {},
   "source": [
    "#### 사용가능한 DRAM ..."
   ]
  },
  {
   "cell_type": "code",
   "execution_count": null,
   "metadata": {},
   "outputs": [],
   "source": [
    "!cat /proc/meminfo | grep 'Mem*'"
   ]
  },
  {
   "cell_type": "markdown",
   "metadata": {},
   "source": [
    "### 네트워크 상태"
   ]
  },
  {
   "cell_type": "markdown",
   "metadata": {},
   "source": [
    "#### 유선 이더넷 연결"
   ]
  },
  {
   "cell_type": "code",
   "execution_count": null,
   "metadata": {
    "scrolled": true
   },
   "outputs": [],
   "source": [
    "!ifconfig eth0"
   ]
  },
  {
   "cell_type": "markdown",
   "metadata": {},
   "source": [
    "#### 로컬 호스트 이름 확인"
   ]
  },
  {
   "cell_type": "code",
   "execution_count": null,
   "metadata": {},
   "outputs": [],
   "source": [
    "!hostname"
   ]
  },
  {
   "cell_type": "markdown",
   "metadata": {},
   "source": [
    "### 운영체제\n",
    "\n",
    "#### 리눅스 버전 확인..."
   ]
  },
  {
   "cell_type": "code",
   "execution_count": 1,
   "metadata": {},
   "outputs": [
    {
     "name": "stdout",
     "output_type": "stream",
     "text": [
      "VERSION=\"14.04.5 LTS, Trusty Tahr\"\r\n",
      "VERSION_ID=\"14.04\"\r\n"
     ]
    }
   ],
   "source": [
    "!cat /etc/os-release | grep VERSION"
   ]
  },
  {
   "cell_type": "markdown",
   "metadata": {},
   "source": [
    "### 파이썬 세부사항\n",
    "\n",
    "#### 내용\n",
    "\n",
    "Pynq 사용시 우리는 숼 명령보다는 파이썬 스크립트를 실행합니다."
   ]
  },
  {
   "cell_type": "code",
   "execution_count": 5,
   "metadata": {},
   "outputs": [
    {
     "name": "stdout",
     "output_type": "stream",
     "text": [
      "\n",
      "파이썬 버전:\n",
      " 3.4.3 (default, Nov 12 2018, 22:25:49) \n",
      "[GCC 4.8.4] \n",
      "\n",
      "파이썬 플랫폼:\n",
      "linux\n",
      "\n"
     ]
    }
   ],
   "source": [
    "import sys\n",
    "\n",
    "print('\\n파이썬 버전:\\n {} \\n\\n파이썬 플랫폼:\\n{}\\n'.format(sys.version, sys.platform))"
   ]
  },
  {
   "cell_type": "code",
   "execution_count": 4,
   "metadata": {},
   "outputs": [
    {
     "name": "stdout",
     "output_type": "stream",
     "text": [
      "파이썬 경로 설정:\n",
      "\n",
      "/usr/lib/python3.4\n",
      "/usr/lib/python3.4/plat-x86_64-linux-gnu\n",
      "/usr/lib/python3.4/lib-dynload\n",
      "/home/sdsoc/.local/lib/python3.4/site-packages\n",
      "/usr/local/lib/python3.4/dist-packages\n",
      "/usr/lib/python3/dist-packages\n",
      "/usr/local/lib/python3.4/dist-packages/IPython/extensions\n",
      "/home/sdsoc/.ipython\n"
     ]
    }
   ],
   "source": [
    "print ('파이썬 경로 설정:')\n",
    "for path_entry in sys.path:\n",
    "    print(path_entry)"
   ]
  },
  {
   "cell_type": "code",
   "execution_count": 6,
   "metadata": {},
   "outputs": [
    {
     "name": "stdout",
     "output_type": "stream",
     "text": [
      "/bin/sh: 1: pip3.6: not found\r\n"
     ]
    }
   ],
   "source": [
    "# 현재 설치된 모든 파이썬 패키지 목록\n",
    "!pip3.6 list --format=columns"
   ]
  },
  {
   "cell_type": "code",
   "execution_count": 7,
   "metadata": {},
   "outputs": [
    {
     "name": "stdout",
     "output_type": "stream",
     "text": [
      "The Zen of Python, by Tim Peters\n",
      "\n",
      "Beautiful is better than ugly.\n",
      "Explicit is better than implicit.\n",
      "Simple is better than complex.\n",
      "Complex is better than complicated.\n",
      "Flat is better than nested.\n",
      "Sparse is better than dense.\n",
      "Readability counts.\n",
      "Special cases aren't special enough to break the rules.\n",
      "Although practicality beats purity.\n",
      "Errors should never pass silently.\n",
      "Unless explicitly silenced.\n",
      "In the face of ambiguity, refuse the temptation to guess.\n",
      "There should be one-- and preferably only one --obvious way to do it.\n",
      "Although that way may not be obvious at first unless you're Dutch.\n",
      "Now is better than never.\n",
      "Although never is often better than *right* now.\n",
      "If the implementation is hard to explain, it's a bad idea.\n",
      "If the implementation is easy to explain, it may be a good idea.\n",
      "Namespaces are one honking great idea -- let's do more of those!\n"
     ]
    }
   ],
   "source": [
    "# On being 'Pythonic'\n",
    "import this"
   ]
  }
 ],
 "metadata": {
  "kernelspec": {
   "display_name": "Python 3",
   "language": "python",
   "name": "python3"
  },
  "language_info": {
   "codemirror_mode": {
    "name": "ipython",
    "version": 3
   },
   "file_extension": ".py",
   "mimetype": "text/x-python",
   "name": "python",
   "nbconvert_exporter": "python",
   "pygments_lexer": "ipython3",
   "version": "3.4.3"
  }
 },
 "nbformat": 4,
 "nbformat_minor": 1
}
