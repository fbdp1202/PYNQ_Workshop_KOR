{
 "cells": [
  {
   "cell_type": "markdown",
   "metadata": {},
   "source": [
    "# PL에서 PS DRAM 접근하기\n",
    "\n",
    "이 챕터에서는 PYNQ Xlnk 클래스가 DDR 메모리에 메모리 버퍼를 할당하는 데 사용된다. 메모리의 실제 주소는 PL로,이 경우에는 IOP로 전달된다. IOP에는 PS DRAM에 대한 연결이 있다. 응용 프로그램은 IOP에서 실행되어 PS DRAM의 메모리 버퍼 내용을 수정한다.\n",
    "\n",
    "비슷한 방식으로, PL의 다른 IP는 물리적 메모리 포인터를 사용하여 PS DRAM에 액세스 할 수 있다."
   ]
  },
  {
   "cell_type": "markdown",
   "metadata": {},
   "source": [
    "### Xlnk의 인스턴스 만들기"
   ]
  },
  {
   "cell_type": "code",
   "execution_count": 1,
   "metadata": {},
   "outputs": [
    {
     "data": {
      "application/javascript": [
       "\n",
       "require(['notebook/js/codecell'], function(codecell) {\n",
       "  codecell.CodeCell.options_default.highlight_modes[\n",
       "      'magic_text/x-csrc'] = {'reg':[/^%%microblaze/]};\n",
       "  Jupyter.notebook.events.one('kernel_ready.Kernel', function(){\n",
       "      Jupyter.notebook.get_cells().map(function(cell){\n",
       "          if (cell.cell_type == 'code'){ cell.auto_highlight(); } }) ;\n",
       "  });\n",
       "});\n"
      ]
     },
     "metadata": {},
     "output_type": "display_data"
    }
   ],
   "source": [
    "from pynq import Xlnk\n",
    "xlnk = Xlnk()"
   ]
  },
  {
   "cell_type": "markdown",
   "metadata": {},
   "source": [
    "### mmu의 상태 확인\n",
    "\n",
    "*cma_stats()*는 Xlnk 인스턴스의 상태를 가져 오는 데 사용할 수 있다. Xlnk은 충분한 공간을 사용할 수있는 경우에만 메모리를 할당 할 수 있다."
   ]
  },
  {
   "cell_type": "code",
   "execution_count": 3,
   "metadata": {},
   "outputs": [
    {
     "data": {
      "text/plain": [
       "{'Buffer Count': 0, 'CMA Memory Available': 76201984, 'CMA Memory Usage': 0}"
      ]
     },
     "execution_count": 3,
     "metadata": {},
     "output_type": "execute_result"
    }
   ],
   "source": [
    "xlnk.cma_stats()"
   ]
  },
  {
   "cell_type": "markdown",
   "metadata": {},
   "source": [
    "## 메모리 버퍼 할당\n",
    "Xlnk의 cma_array() 함수는 인접한 메모리 버퍼를 만든다. 버퍼는 Python에서 사용할 수 있다. 파이썬은 리눅스에서 돌아가고 가상 메모리 주소를 통해 버퍼에 접근 할 것이다. 이것은 Python 레벨에서 사용자에게 보이지 않는다. Xlnk함수 cma_get_phy_addr()을 사용하여 실제 주소를 반환 할 수 있다. 이 물리 주소는 PL의 IP가 PS DRAM의 동일한 메모리 버퍼에 액세스하는 데 사용할 수 있다."
   ]
  },
  {
   "cell_type": "code",
   "execution_count": 4,
   "metadata": {},
   "outputs": [],
   "source": [
    "import numpy as np \n",
    "py_buffer = xlnk.cma_array(shape=(1000,), dtype=np.int32)"
   ]
  },
  {
   "cell_type": "markdown",
   "metadata": {},
   "source": [
    "### 메모리 버퍼 주소를 확인하라.\n",
    "\n",
    "가상 주소는 Linux에서 실행 중인 모든 응용 프로그램에서 사용할 수 있다. 이것은 Python 응용 프로그램이거나 Linux에서 실행중인 C/C++ 또는 다른 응용 프로그램 일 수 있다. 물리적 주소는 오버레이의 IP블록으로 전달 될 수 있다.\n"
   ]
  },
  {
   "cell_type": "markdown",
   "metadata": {},
   "source": [
    "### Base Overlay 다운로드"
   ]
  },
  {
   "cell_type": "code",
   "execution_count": 5,
   "metadata": {},
   "outputs": [],
   "source": [
    "from pynq.overlays.base import BaseOverlay\n",
    "base = BaseOverlay('base.bit')"
   ]
  },
  {
   "cell_type": "markdown",
   "metadata": {},
   "source": [
    "## MicroBlaze 프로그램 생성\n",
    "\n",
    "MicroBlaze에서 실행될 새로운 기능을 위한 C코드는 다음 셀에 제공된다. C 함수 매개 변수는 실제 주소, 길이 및 데이터이다. 이 함수는 각 메모리 위치의 내용을 읽고 각 위치에 오프셋 값 *data*를 추가하여 [*address* : *address* + *length*] 범위의 데이터를 수정한다."
   ]
  },
  {
   "cell_type": "code",
   "execution_count": 6,
   "metadata": {},
   "outputs": [],
   "source": [
    "%%microblaze base.ARDUINO\n",
    "void my_function(unsigned int physical_address, unsigned int length, unsigned int data) {\n",
    "    int i;\n",
    "    int *mb_buffer;\n",
    "    \n",
    "    // DDR is accessed through a GP port at offset 0x20000000\n",
    "    mb_buffer = (int *)(physical_address|0x20000000); // Cast to pointer and convert to DDR offset address\n",
    "\n",
    "    // Write memory buffer in DDR\n",
    "    for(i=0; i<length; i++){\n",
    "        mb_buffer[i]= mb_buffer[i] + data;\n",
    "    }\n",
    "}"
   ]
  },
  {
   "cell_type": "markdown",
   "metadata": {},
   "source": [
    "다음 값을 사용하여 버퍼를 초기화하시오."
   ]
  },
  {
   "cell_type": "code",
   "execution_count": 7,
   "metadata": {},
   "outputs": [],
   "source": [
    "length = 20 \n",
    "for i in range(length):\n",
    "    py_buffer[i] = i"
   ]
  },
  {
   "cell_type": "markdown",
   "metadata": {},
   "source": [
    "버퍼의 내용을 확인하시오."
   ]
  },
  {
   "cell_type": "code",
   "execution_count": 8,
   "metadata": {},
   "outputs": [
    {
     "data": {
      "text/plain": [
       "ContiguousArray([ 0,  1,  2,  3,  4,  5,  6,  7,  8,  9, 10, 11, 12, 13,\n",
       "                 14, 15, 16, 17, 18, 19])"
      ]
     },
     "execution_count": 8,
     "metadata": {},
     "output_type": "execute_result"
    }
   ],
   "source": [
    "py_buffer[0:length]"
   ]
  },
  {
   "cell_type": "markdown",
   "metadata": {},
   "source": [
    "## IOP에서 버퍼에 쓰기\n",
    "\n",
    "*mmu* Xlnk 인스턴스에서 반환 된 실제 포인터 주소와 초기화 값 및 길이를 적어라. IOP 어플리케이션은 메모리 버퍼에 기록한다."
   ]
  },
  {
   "cell_type": "code",
   "execution_count": 9,
   "metadata": {},
   "outputs": [],
   "source": [
    "data = 10\n",
    "my_function(py_buffer.physical_address, length, data)"
   ]
  },
  {
   "cell_type": "markdown",
   "metadata": {},
   "source": [
    "IOP 어플리케이션이 버퍼를 수정 한 후에 버퍼의 내용을 점검하라. 위의 셀은 다른 값의 데이터와 길이로 재실행 할 수 있다."
   ]
  },
  {
   "cell_type": "code",
   "execution_count": 10,
   "metadata": {},
   "outputs": [
    {
     "data": {
      "text/plain": [
       "ContiguousArray([10, 11, 12, 13, 14, 15, 16, 17, 18, 19, 20, 21, 22, 23,\n",
       "                 24, 25, 26, 27, 28, 29])"
      ]
     },
     "execution_count": 10,
     "metadata": {},
     "output_type": "execute_result"
    }
   ],
   "source": [
    "py_buffer[0:length]"
   ]
  }
 ],
 "metadata": {
  "kernelspec": {
   "display_name": "Python 3",
   "language": "python",
   "name": "python3"
  },
  "language_info": {
   "codemirror_mode": {
    "name": "ipython",
    "version": 3
   },
   "file_extension": ".py",
   "mimetype": "text/x-python",
   "name": "python",
   "nbconvert_exporter": "python",
   "pygments_lexer": "ipython3",
   "version": "3.6.5"
  }
 },
 "nbformat": 4,
 "nbformat_minor": 1
}
