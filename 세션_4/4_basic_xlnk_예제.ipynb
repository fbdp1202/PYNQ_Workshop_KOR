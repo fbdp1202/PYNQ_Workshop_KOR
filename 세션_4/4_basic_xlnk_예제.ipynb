{
 "cells": [
  {
   "cell_type": "markdown",
   "metadata": {},
   "source": [
    "# PYNQ 튜토리얼 : Xlnk 및 연속 메모리 할당\n",
    "\n",
    "`Xlnk()`는 연속적인 메모리 블록을 할당 할 수 있다. 메모리 버퍼의 데이터는 PS와 PL간에 효율적으로 전송 될 수 있다.\n",
    "\n",
    "주의:`Xlnk()`드라이버는 오버레이와 무관하므로 사용하는 오버레이에 관계없이 사용할 수 있다.\n",
    "\n",
    "## 준비\n",
    "\n",
    "다음 셀에서 우리는 몇 가지 유용한 함수를 정의 할 것이다."
   ]
  },
  {
   "cell_type": "code",
   "execution_count": 1,
   "metadata": {},
   "outputs": [],
   "source": [
    "from time import sleep\n",
    "from pprint import pprint\n",
    "\n",
    "def get_kb(mmu):\n",
    "    return int(mmu.cma_stats()['CMA Memory Available']//1024)\n",
    "\n",
    "def get_bufcount(mmu):\n",
    "    return int(memmanager.cma_stats()['Buffer Count'])\n",
    "\n",
    "def print_kb(mmu):\n",
    "    print(\"Available Memory (KB): \" + str(get_kb(mmu)))"
   ]
  },
  {
   "cell_type": "markdown",
   "metadata": {
    "slideshow": {
     "slide_type": "-"
    }
   },
   "source": [
    "## 1 단계: Xlnk의 인스턴스 만들기\n",
    "Xlnk 인스턴스는 이 쳅터 전체에 걸쳐 `mmu` (Memory Management Unit)로 분류된다."
   ]
  },
  {
   "cell_type": "code",
   "execution_count": 2,
   "metadata": {
    "slideshow": {
     "slide_type": "-"
    }
   },
   "outputs": [
    {
     "data": {
      "application/javascript": [
       "\n",
       "require(['notebook/js/codecell'], function(codecell) {\n",
       "  codecell.CodeCell.options_default.highlight_modes[\n",
       "      'magic_text/x-csrc'] = {'reg':[/^%%microblaze/]};\n",
       "  Jupyter.notebook.events.one('kernel_ready.Kernel', function(){\n",
       "      Jupyter.notebook.get_cells().map(function(cell){\n",
       "          if (cell.cell_type == 'code'){ cell.auto_highlight(); } }) ;\n",
       "  });\n",
       "});\n"
      ]
     },
     "metadata": {},
     "output_type": "display_data"
    }
   ],
   "source": [
    "from pynq import Xlnk\n",
    "xlnk = Xlnk()"
   ]
  },
  {
   "cell_type": "markdown",
   "metadata": {},
   "source": [
    "## 2 단계: 상태 확인"
   ]
  },
  {
   "cell_type": "code",
   "execution_count": 3,
   "metadata": {},
   "outputs": [
    {
     "name": "stdout",
     "output_type": "stream",
     "text": [
      "{'Buffer Count': 0, 'CMA Memory Available': 73277440, 'CMA Memory Usage': 0}\n"
     ]
    }
   ],
   "source": [
    "pprint(xlnk.cma_stats())"
   ]
  },
  {
   "cell_type": "markdown",
   "metadata": {},
   "source": [
    "## 3 단계: 메모리 할당"
   ]
  },
  {
   "cell_type": "code",
   "execution_count": 4,
   "metadata": {},
   "outputs": [
    {
     "name": "stdout",
     "output_type": "stream",
     "text": [
      "Before memory allocation:\n",
      "Available Memory (KB): 71560\n",
      "After memory allocation:\n",
      "Available Memory (KB): 40584\n"
     ]
    }
   ],
   "source": [
    "import numpy as np \n",
    "print(\"Before memory allocation:\")\n",
    "print_kb(xlnk)\n",
    "\n",
    "buffer = xlnk.cma_array(shape=(10000000,), dtype=np.float32)\n",
    "\n",
    "print(\"After memory allocation:\")\n",
    "print_kb(xlnk)"
   ]
  },
  {
   "cell_type": "markdown",
   "metadata": {},
   "source": [
    "## 4 단계: 메모리 버퍼 주소 확인\n",
    "\n",
    "가상 주소는 Linux에서 사용할 수 있다. Physical address는 PL 내의 주변 장치로 전달 될 수 있다.\n"
   ]
  },
  {
   "cell_type": "code",
   "execution_count": 5,
   "metadata": {},
   "outputs": [
    {
     "name": "stdout",
     "output_type": "stream",
     "text": [
      "Buffer pointer address (physical memory):\n",
      "0x18100000\n"
     ]
    }
   ],
   "source": [
    "print(\"Buffer pointer address (physical memory):\")\n",
    "print(hex(buffer.physical_address))"
   ]
  },
  {
   "cell_type": "markdown",
   "metadata": {},
   "source": [
    "## 5 단계: 메모리를 비우십시오.\n",
    "사용 후 연속 메모리를 해제하는 것이 좋다. 이렇게 하면 프로그램에서 메모리가 누출되지 않는다."
   ]
  },
  {
   "cell_type": "code",
   "execution_count": 6,
   "metadata": {},
   "outputs": [
    {
     "name": "stdout",
     "output_type": "stream",
     "text": [
      "{'CMA Memory Available': 80855040, 'CMA Memory Usage': 0, 'Buffer Count': 0}\n"
     ]
    }
   ],
   "source": [
    "del buffer\n",
    "print(xlnk.cma_stats())"
   ]
  },
  {
   "cell_type": "code",
   "execution_count": 8,
   "metadata": {},
   "outputs": [
    {
     "name": "stdout",
     "output_type": "stream",
     "text": [
      "Available Memory (KB): 79360\n"
     ]
    }
   ],
   "source": [
    "print_kb(xlnk)"
   ]
  },
  {
   "cell_type": "markdown",
   "metadata": {},
   "source": [
    "주의, 사용 가능한 메모리가 이전 번호와 완전히 같지 않을 수도 있다."
   ]
  }
 ],
 "metadata": {
  "kernelspec": {
   "display_name": "Python 3",
   "language": "python",
   "name": "python3"
  },
  "language_info": {
   "codemirror_mode": {
    "name": "ipython",
    "version": 3
   },
   "file_extension": ".py",
   "mimetype": "text/x-python",
   "name": "python",
   "nbconvert_exporter": "python",
   "pygments_lexer": "ipython3",
   "version": "3.6.5"
  }
 },
 "nbformat": 4,
 "nbformat_minor": 1
}
