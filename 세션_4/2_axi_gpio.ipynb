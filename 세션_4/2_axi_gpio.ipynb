{
 "cells": [
  {
   "cell_type": "markdown",
   "metadata": {},
   "source": [
    "# PYNQ 에서 AXI GPIO 사용하기\n",
    "\n",
    "## 목표\n",
    "이 노트북을 통해 PYNQ에서 AXI GPIO 를 사용하는 것을 실습해보고자 한다.\n",
    "\n",
    "AXI GPIO의 특징은 다수의 AXI GPIO 컨트롤러를 프로그래밍 가능한 로직에 적용할 수 있다는 점이다. 이를 통해 내부 또는 외부의 GPIO 신호를 제어할 수 있다.\n",
    "\n",
    "## 하드웨어 디자인\n",
    "\n",
    "이 예제에서는 PYNQ-Z1 또는 PYNQ-Z2 보드에 탑재된 LED와 버튼, 스위치에 연결돤 3개의 AXI GPIO 컨트롤러를 사용한다. (각 AXI GPIO 컨트롤러는 2개의 채널을 가지고 있다. 따라서 하나의 AXI GPIO IP를 통해 여러 주변 시스템들을 제어하는 것이 가능하다. 그러나 예제에서는 단순함과 시연을 위해 AXI GPIO 컨트롤러를 분리해서 사용하였다.) \n",
    "\n",
    "![AXI GPIO Design](./images/axi_gpio_design.png \"AXI GPIO Design\")"
   ]
  },
  {
   "cell_type": "markdown",
   "metadata": {},
   "source": [
    "### 1. 튜토리얼 Overlay 다운로드 하기\n",
    "\n",
    "`axi_gpio.bit` 파일과 `axi_gpio.tcl` 파일은 현재 노트가 위치한 폴더 내의 `/bitstream` 폴더에 내에서 발견할 수 있다. bitsteam 파일은 Overlay 클래스에게 상대 주소를 전달함으로써 루트 라이브러리 폴더에 위치하지 않아도 사용할 수 있다."
   ]
  },
  {
   "cell_type": "markdown",
   "metadata": {},
   "source": [
    "* bitstream 폴더 내에 bitstream 파일과 .tcl 파일 확인하기"
   ]
  },
  {
   "cell_type": "code",
   "execution_count": 17,
   "metadata": {},
   "outputs": [
    {
     "name": "stdout",
     "output_type": "stream",
     "text": [
      "axi_gpio.bit  ps_gpio.bit  pynq_tutorial.bit  resize.bit\r\n",
      "axi_gpio.tcl  ps_gpio.tcl  pynq_tutorial.tcl  resize.tcl\r\n"
     ]
    }
   ],
   "source": [
    "!dir ./bitstream"
   ]
  },
  {
   "cell_type": "markdown",
   "metadata": {},
   "source": [
    "* Overlay에 bitstream 적용하기"
   ]
  },
  {
   "cell_type": "code",
   "execution_count": 18,
   "metadata": {},
   "outputs": [
    {
     "name": "stderr",
     "output_type": "stream",
     "text": [
      "/usr/local/lib/python3.6/dist-packages/pynq/overlay.py:299: UserWarning: Users will not get PARAMETERS / REGISTERS information through TCL files. HWH file is recommended.\n",
      "  warnings.warn(message, UserWarning)\n"
     ]
    }
   ],
   "source": [
    "from pynq import Overlay\n",
    "axi_gpio_design = Overlay(\"./bitstream/axi_gpio.bit\")"
   ]
  },
  {
   "cell_type": "markdown",
   "metadata": {},
   "source": [
    "다운로드하고자 하는 IP Dictionary의 디자인을 확인한다. IP Dictionary는 디자인 내의 AXI IP를 나열하며, 이 예에서는 버튼과 LED, 그리고 스위치에 대한 AXI GPIO 컨트롤러를 나열한다. 물리적 주소와, 주소의 범위 및 IP 유형이 나열되는 것 또한 볼 수 있다. 만약 어떤 인터럽트가 발생하거나, GPIO가 PS에 연결되어 있다면, 이러한 사항들 또한 출력된다."
   ]
  },
  {
   "cell_type": "code",
   "execution_count": 19,
   "metadata": {},
   "outputs": [
    {
     "data": {
      "text/plain": [
       "{'buttons': {'addr_range': 65536,\n",
       "  'driver': pynq.lib.axigpio.AxiGPIO,\n",
       "  'fullpath': 'buttons',\n",
       "  'gpio': {},\n",
       "  'interrupts': {},\n",
       "  'mem_id': 'SEG_buttons_Reg',\n",
       "  'phys_addr': 1092681728,\n",
       "  'state': None,\n",
       "  'type': 'xilinx.com:ip:axi_gpio:2.0'},\n",
       " 'leds': {'addr_range': 65536,\n",
       "  'driver': pynq.lib.axigpio.AxiGPIO,\n",
       "  'fullpath': 'leds',\n",
       "  'gpio': {},\n",
       "  'interrupts': {},\n",
       "  'mem_id': 'SEG_leds_Reg',\n",
       "  'phys_addr': 1092616192,\n",
       "  'state': None,\n",
       "  'type': 'xilinx.com:ip:axi_gpio:2.0'},\n",
       " 'switches': {'addr_range': 65536,\n",
       "  'driver': pynq.lib.axigpio.AxiGPIO,\n",
       "  'fullpath': 'switches',\n",
       "  'gpio': {},\n",
       "  'interrupts': {},\n",
       "  'mem_id': 'SEG_switches_Reg',\n",
       "  'phys_addr': 1092747264,\n",
       "  'state': None,\n",
       "  'type': 'xilinx.com:ip:axi_gpio:2.0'}}"
      ]
     },
     "execution_count": 19,
     "metadata": {},
     "output_type": "execute_result"
    }
   ],
   "source": [
    "axi_gpio_design.ip_dict"
   ]
  },
  {
   "cell_type": "markdown",
   "metadata": {},
   "source": [
    "## AxiGPIO 클래스\n",
    "\n",
    "PYNQ의 AxiGPIO 클래스는 AXI GPIO 컨트롤러에 접근하는데 사용된다."
   ]
  },
  {
   "cell_type": "markdown",
   "metadata": {},
   "source": [
    "### 1. 스위치와 버튼 제어하기\n",
    "\n",
    "인스턴스는 IP dictionary 를 통해 찾을 수 있으며, 아래 코드와 같이 변수 선언에도 사용할 수 있다."
   ]
  },
  {
   "cell_type": "code",
   "execution_count": 20,
   "metadata": {},
   "outputs": [],
   "source": [
    "from pynq.lib import AxiGPIO\n",
    "\n",
    "buttons_instance = axi_gpio_design.ip_dict['buttons']\n",
    "buttons = AxiGPIO(buttons_instance).channel1"
   ]
  },
  {
   "cell_type": "code",
   "execution_count": 21,
   "metadata": {},
   "outputs": [
    {
     "data": {
      "text/plain": [
       "0"
      ]
     },
     "execution_count": 21,
     "metadata": {},
     "output_type": "execute_result"
    }
   ],
   "source": [
    "buttons.read()"
   ]
  },
  {
   "cell_type": "markdown",
   "metadata": {},
   "source": [
    "버튼 컨트롤러는 PYNQ 보드의 내장된 4개의 버튼(BTN0 부터 BTN3까지) 연결되어 있다. 각 버튼들을 하나 혹은 여러 개를 동시에 눌러 보면서 위의 코드를 재실행해보고 결과가 어떻게 다르게 나타나는지 확인해보자.\n",
    "\n",
    "스위치를 위한 AXI GPIO 컨트롤러 또한 버튼을 이용한 것과 비슷하게 진행할 수 있다."
   ]
  },
  {
   "cell_type": "code",
   "execution_count": 22,
   "metadata": {},
   "outputs": [],
   "source": [
    "switches_instance = axi_gpio_design.ip_dict['switches']\n",
    "switches = AxiGPIO(switches_instance).channel1"
   ]
  },
  {
   "cell_type": "code",
   "execution_count": 23,
   "metadata": {},
   "outputs": [
    {
     "name": "stdout",
     "output_type": "stream",
     "text": [
      "Switches: 0\n"
     ]
    }
   ],
   "source": [
    "print(f\"Switches: {switches.read()}\")"
   ]
  },
  {
   "cell_type": "markdown",
   "metadata": {},
   "source": [
    "### 2. LED 제어하기\n",
    "LED 또한 버튼과 스위치에서 한 것과 같이 비슷하게 진행할 수 있다."
   ]
  },
  {
   "cell_type": "code",
   "execution_count": 24,
   "metadata": {},
   "outputs": [],
   "source": [
    "from pynq.lib import AxiGPIO\n",
    "led_instance = axi_gpio_design.ip_dict['leds']\n",
    "led = AxiGPIO(led_instance).channel1"
   ]
  },
  {
   "cell_type": "markdown",
   "metadata": {},
   "source": [
    "출력을 슬라이스에 연결할 수 있다."
   ]
  },
  {
   "cell_type": "code",
   "execution_count": 25,
   "metadata": {},
   "outputs": [],
   "source": [
    "led[0:4].write(0x1)"
   ]
  },
  {
   "cell_type": "code",
   "execution_count": 26,
   "metadata": {},
   "outputs": [],
   "source": [
    "from time import sleep\n",
    "\n",
    "led[0:4].write(0x3)\n",
    "sleep(1)\n",
    "led[0:4].write(0x7)\n",
    "sleep(1)\n",
    "led[0:4].write(0xf)"
   ]
  },
  {
   "cell_type": "markdown",
   "metadata": {},
   "source": [
    "* LED 리셋하기"
   ]
  },
  {
   "cell_type": "code",
   "execution_count": 27,
   "metadata": {},
   "outputs": [],
   "source": [
    "led[0:4].off()"
   ]
  },
  {
   "cell_type": "markdown",
   "metadata": {},
   "source": [
    "### 3 버튼과 스위치, LED를 한 번에 적용하기\n",
    "\n",
    "버튼의 입력을 LED로 출력하는 코드를 반복문으로 실행한다.\n",
    "\n",
    "반복문의 조건은 스위치로 설정하였기 때문에, SW0 스위치가 켜짐 상태에 있어야 아래 코드가 제대로 동작하는 것을 볼 수 있다. 반복문이 실행되는 동안 버튼을 누르면 같은 자리에 위치한 LED의 불이 켜지는 것을 알 수 있다. 반복문 코드를 종료시키기 위해서는 SW0 스위치를 꺼짐 상태로 두면 된다."
   ]
  },
  {
   "cell_type": "code",
   "execution_count": 28,
   "metadata": {},
   "outputs": [],
   "source": [
    "while(switches.read() is 1):\n",
    "    led[0:4].write(buttons.read())"
   ]
  }
 ],
 "metadata": {
  "kernelspec": {
   "display_name": "Python 3",
   "language": "python",
   "name": "python3"
  },
  "language_info": {
   "codemirror_mode": {
    "name": "ipython",
    "version": 3
   },
   "file_extension": ".py",
   "mimetype": "text/x-python",
   "name": "python",
   "nbconvert_exporter": "python",
   "pygments_lexer": "ipython3",
   "version": "3.6.5"
  }
 },
 "nbformat": 4,
 "nbformat_minor": 2
}
