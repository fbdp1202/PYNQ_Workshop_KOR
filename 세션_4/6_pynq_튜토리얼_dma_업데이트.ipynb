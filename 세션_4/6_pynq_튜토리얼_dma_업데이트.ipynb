{
 "cells": [
  {
   "cell_type": "markdown",
   "metadata": {},
   "source": [
    "# PYNQ 튜토리얼 : DMA를 스트리밍 인터페이스로 사용하기\n",
    "\n",
    "오버레이는 2개의 DMA와 AXI스트림 FIFO(입력 및 출력 AXI 스트림 인터페이스)로 구성되어 있다. FIFO는 가속기를 나타낸다. 단일 DMA는 읽기 및 쓰기 채널이 활성화 된 상태로 사용할 수 있지만 데모 용으로 두 개의 서로 다른 DMA가 사용된다.\n",
    "\n",
    "* 읽기 채널이 활성화 된 첫 번째 DMA는 DDR에서 IP 입력 스트림(DDR에서 읽기 및 AXI 스트림으로 전송)에서 연결된다.\n",
    "* 두 번째 DMA에는 Write 채널이 활성화되어 있으며 DDR (DDR1 메모리에서 AXI 스트림을 수신하고 DDR 메모리에 쓰기)에 대한 IP 출력 스트림에 연결된다.\n",
    "\n",
    "아래 디자인에는 실제로 다른 IP가 있으며 (현재 표시되지 않음) 아래 그림에서는 표현되지 않는다.\n",
    "\n",
    "![](images/dma_stream_example.png)"
   ]
  },
  {
   "cell_type": "markdown",
   "metadata": {},
   "source": [
    "## 1. 오버레이 다운로드\n",
    "오버레이는 오버레이 클래스를 인스턴스화 할 때 자동으로 다운로드 할 수 있다."
   ]
  },
  {
   "cell_type": "code",
   "execution_count": 1,
   "metadata": {},
   "outputs": [
    {
     "data": {
      "application/javascript": [
       "\n",
       "require(['notebook/js/codecell'], function(codecell) {\n",
       "  codecell.CodeCell.options_default.highlight_modes[\n",
       "      'magic_text/x-csrc'] = {'reg':[/^%%microblaze/]};\n",
       "  Jupyter.notebook.events.one('kernel_ready.Kernel', function(){\n",
       "      Jupyter.notebook.get_cells().map(function(cell){\n",
       "          if (cell.cell_type == 'code'){ cell.auto_highlight(); } }) ;\n",
       "  });\n",
       "});\n"
      ]
     },
     "metadata": {},
     "output_type": "display_data"
    },
    {
     "name": "stderr",
     "output_type": "stream",
     "text": [
      "/usr/local/lib/python3.6/dist-packages/pynq/overlay.py:299: UserWarning: Users will not get PARAMETERS / REGISTERS information through TCL files. HWH file is recommended.\n",
      "  warnings.warn(message, UserWarning)\n"
     ]
    }
   ],
   "source": [
    "from pynq import Overlay\n",
    "\n",
    "overlay = Overlay(\"./bitstream/pynq_tutorial.bit\")"
   ]
  },
  {
   "cell_type": "markdown",
   "metadata": {},
   "source": [
    "이 오버레이에서 IP를 확인할 수 있다. DMA *axi_dma_from_pl_to_ps* 및 *axi_dma_from_pl_to_ps*에 주목하라."
   ]
  },
  {
   "cell_type": "code",
   "execution_count": 2,
   "metadata": {
    "scrolled": true
   },
   "outputs": [
    {
     "data": {
      "text/plain": [
       "{'axi_dma_from_pl_to_ps': {'addr_range': 65536,\n",
       "  'driver': pynq.lib.dma.DMA,\n",
       "  'fullpath': 'axi_dma_from_pl_to_ps',\n",
       "  'gpio': {},\n",
       "  'interrupts': {'s2mm_introut': {'controller': 'system_interrupts',\n",
       "    'fullpath': 'axi_dma_from_pl_to_ps/s2mm_introut',\n",
       "    'index': 1}},\n",
       "  'mem_id': 'SEG_axi_dma_from_pl_to_ps_Reg',\n",
       "  'phys_addr': 1078001664,\n",
       "  'state': None,\n",
       "  'type': 'xilinx.com:ip:axi_dma:7.1'},\n",
       " 'axi_dma_from_ps_to_pl': {'addr_range': 65536,\n",
       "  'driver': pynq.lib.dma.DMA,\n",
       "  'fullpath': 'axi_dma_from_ps_to_pl',\n",
       "  'gpio': {},\n",
       "  'interrupts': {'mm2s_introut': {'controller': 'system_interrupts',\n",
       "    'fullpath': 'axi_dma_from_ps_to_pl/mm2s_introut',\n",
       "    'index': 0}},\n",
       "  'mem_id': 'SEG_axi_dma_from_ps_to_pl_Reg',\n",
       "  'phys_addr': 1077936128,\n",
       "  'state': None,\n",
       "  'type': 'xilinx.com:ip:axi_dma:7.1'},\n",
       " 'btns_gpio': {'addr_range': 65536,\n",
       "  'driver': pynq.lib.axigpio.AxiGPIO,\n",
       "  'fullpath': 'btns_gpio',\n",
       "  'gpio': {},\n",
       "  'interrupts': {'ip2intc_irpt': {'controller': 'system_interrupts',\n",
       "    'fullpath': 'btns_gpio/ip2intc_irpt',\n",
       "    'index': 4}},\n",
       "  'mem_id': 'SEG_btns_gpio_Reg',\n",
       "  'phys_addr': 1092681728,\n",
       "  'state': None,\n",
       "  'type': 'xilinx.com:ip:axi_gpio:2.0'},\n",
       " 'iop1/mb_bram_ctrl': {'addr_range': 65536,\n",
       "  'driver': pynq.overlay.DefaultIP,\n",
       "  'fullpath': 'iop1/mb_bram_ctrl',\n",
       "  'gpio': {},\n",
       "  'interrupts': {},\n",
       "  'mem_id': 'SEG_mb_bram_ctrl_1_Mem0',\n",
       "  'phys_addr': 1073741824,\n",
       "  'state': None,\n",
       "  'type': 'xilinx.com:ip:axi_bram_ctrl:4.0'},\n",
       " 'iop2/mb_bram_ctrl': {'addr_range': 65536,\n",
       "  'driver': pynq.overlay.DefaultIP,\n",
       "  'fullpath': 'iop2/mb_bram_ctrl',\n",
       "  'gpio': {},\n",
       "  'interrupts': {},\n",
       "  'mem_id': 'SEG_mb_bram_ctrl_2_Mem0',\n",
       "  'phys_addr': 1107296256,\n",
       "  'state': None,\n",
       "  'type': 'xilinx.com:ip:axi_bram_ctrl:4.0'},\n",
       " 'rgbleds_gpio': {'addr_range': 65536,\n",
       "  'driver': pynq.lib.axigpio.AxiGPIO,\n",
       "  'fullpath': 'rgbleds_gpio',\n",
       "  'gpio': {},\n",
       "  'interrupts': {},\n",
       "  'mem_id': 'SEG_rgbleds_gpio_Reg',\n",
       "  'phys_addr': 1092747264,\n",
       "  'state': None,\n",
       "  'type': 'xilinx.com:ip:axi_gpio:2.0'},\n",
       " 'swsleds_gpio': {'addr_range': 65536,\n",
       "  'driver': pynq.lib.axigpio.AxiGPIO,\n",
       "  'fullpath': 'swsleds_gpio',\n",
       "  'gpio': {},\n",
       "  'interrupts': {'ip2intc_irpt': {'controller': 'system_interrupts',\n",
       "    'fullpath': 'swsleds_gpio/ip2intc_irpt',\n",
       "    'index': 5}},\n",
       "  'mem_id': 'SEG_swsleds_gpio_Reg',\n",
       "  'phys_addr': 1092616192,\n",
       "  'state': None,\n",
       "  'type': 'xilinx.com:ip:axi_gpio:2.0'},\n",
       " 'system_interrupts': {'addr_range': 65536,\n",
       "  'driver': pynq.overlay.DefaultIP,\n",
       "  'fullpath': 'system_interrupts',\n",
       "  'gpio': {},\n",
       "  'interrupts': {},\n",
       "  'mem_id': 'SEG_system_interrupts_Reg',\n",
       "  'phys_addr': 1098907648,\n",
       "  'state': None,\n",
       "  'type': 'xilinx.com:ip:axi_intc:4.1'}}"
      ]
     },
     "execution_count": 2,
     "metadata": {},
     "output_type": "execute_result"
    }
   ],
   "source": [
    "overlay.ip_dict"
   ]
  },
  {
   "cell_type": "markdown",
   "metadata": {},
   "source": [
    "## 2. DMA 인스턴스 생성\n",
    "\n",
    "위에 나열된 DMA 레이블을 사용하여 두 개의 DMA 개체를 만들 수 있습니다."
   ]
  },
  {
   "cell_type": "code",
   "execution_count": 3,
   "metadata": {},
   "outputs": [
    {
     "name": "stderr",
     "output_type": "stream",
     "text": [
      "/usr/local/lib/python3.6/dist-packages/pynq/lib/dma.py:200: UserWarning: Failed to find parameter c_sg_length_width; users should really use *.hwh files for overlays.\n",
      "  warnings.warn(message, UserWarning)\n"
     ]
    }
   ],
   "source": [
    "import pynq.lib.dma\n",
    "\n",
    "dma_send = overlay.axi_dma_from_ps_to_pl\n",
    "dma_recv = overlay.axi_dma_from_pl_to_ps"
   ]
  },
  {
   "cell_type": "markdown",
   "metadata": {},
   "source": [
    "## 3. DMA 읽기\n",
    "우리는 메모리에서 일부 데이터를 읽고 다음 셀의 FIFO에 쓸 것이다.\n",
    "\n",
    "첫 번째 단계는 연속적인 주소를 가진 메모리를 만드는 것이다. Xlnk는 메모리 버퍼를 할당하는 데 사용되고 NumPy는 버퍼 유형을 지정하는 데 사용된다."
   ]
  },
  {
   "cell_type": "code",
   "execution_count": 4,
   "metadata": {},
   "outputs": [],
   "source": [
    "from pynq import Xlnk\n",
    "import numpy as np\n",
    "\n",
    "data_size = 100\n",
    "\n",
    "xlnk = Xlnk()\n",
    "\n",
    "input_buffer = xlnk.cma_array(shape=(data_size,), dtype=np.uint32)"
   ]
  },
  {
   "cell_type": "markdown",
   "metadata": {},
   "source": [
    "배열은 다른 NumPy 배열처럼 사용할 수 있다. 우리는 배열에 몇 가지 테스트 데이터를 쓸 수 있다. 나중에 데이터는 DMA에 의해 FIFO로 전송된다."
   ]
  },
  {
   "cell_type": "code",
   "execution_count": 5,
   "metadata": {},
   "outputs": [],
   "source": [
    "for i in range(data_size):\n",
    "    input_buffer[i] = i + 0xcafe0000"
   ]
  },
  {
   "cell_type": "markdown",
   "metadata": {},
   "source": [
    "배열의 내용을 확인해 보자. 다음 셀의 데이터는 PS(DDR 메모리)에서 PL(스트리밍 FIFO)로 전송된다."
   ]
  },
  {
   "cell_type": "code",
   "execution_count": 6,
   "metadata": {
    "scrolled": false
   },
   "outputs": [
    {
     "name": "stdout",
     "output_type": "stream",
     "text": [
      "Print first few values of buffer ...\n",
      "0xcafe0000\n",
      "0xcafe0001\n",
      "0xcafe0002\n",
      "0xcafe0003\n",
      "0xcafe0004\n",
      "0xcafe0005\n",
      "0xcafe0006\n",
      "0xcafe0007\n",
      "0xcafe0008\n",
      "0xcafe0009\n"
     ]
    }
   ],
   "source": [
    "print(\"Print first few values of buffer ...\")\n",
    "for i in range(10):\n",
    "    print(hex(input_buffer[i]))"
   ]
  },
  {
   "cell_type": "markdown",
   "metadata": {},
   "source": [
    "이제 DDR에서 FIFO로의 메모리 블록에서 DMA 전송을 수행 할 준비가 되었다."
   ]
  },
  {
   "cell_type": "code",
   "execution_count": 7,
   "metadata": {},
   "outputs": [],
   "source": [
    "dma_send.sendchannel.transfer(input_buffer)"
   ]
  },
  {
   "cell_type": "markdown",
   "metadata": {},
   "source": [
    "## 4. DMA 쓰기\n",
    "FIFO 스트림에서 다시 데이터를 읽고 MM 메모리에 쓴다. 단계는 비슷하다.\n",
    "\n",
    "우리는 FIFO에서 데이터를 다시 읽기 전에 빈 배열을 준비 할 것이다."
   ]
  },
  {
   "cell_type": "code",
   "execution_count": 8,
   "metadata": {},
   "outputs": [
    {
     "name": "stdout",
     "output_type": "stream",
     "text": [
      "Print first few values ...\n",
      "0x00\n",
      "0x00\n",
      "0x00\n",
      "0x00\n",
      "0x00\n",
      "0x00\n",
      "0x00\n",
      "0x00\n",
      "0x00\n",
      "0x00\n"
     ]
    }
   ],
   "source": [
    "output_buffer = xlnk.cma_array(shape=(data_size,), dtype=np.uint32)\n",
    "print(\"Print first few values ...\")\n",
    "for i in range(10):\n",
    "    print('0x' + format(output_buffer[i], '02x'))"
   ]
  },
  {
   "cell_type": "code",
   "execution_count": 9,
   "metadata": {},
   "outputs": [],
   "source": [
    "dma_recv.recvchannel.transfer(output_buffer)"
   ]
  },
  {
   "cell_type": "markdown",
   "metadata": {},
   "source": [
    "다음 셀은 PL(스트리밍 FIFO)에서 PS(DDR 메모리)로 수신 된 데이터를 인쇄한다. 이것은 이전에 보낸 데이터와 동일해야 한다."
   ]
  },
  {
   "cell_type": "code",
   "execution_count": 10,
   "metadata": {},
   "outputs": [
    {
     "name": "stdout",
     "output_type": "stream",
     "text": [
      "Print first few values ...\n",
      "0xcafe0000\n",
      "0xcafe0001\n",
      "0xcafe0002\n",
      "0xcafe0003\n",
      "0xcafe0004\n",
      "0xcafe0005\n",
      "0xcafe0006\n",
      "0xcafe0007\n",
      "0xcafe0008\n",
      "0xcafe0009\n"
     ]
    }
   ],
   "source": [
    "print(\"Print first few values ...\")\n",
    "for i in range(10):\n",
    "    print('0x' + format(output_buffer[i], '02x'))"
   ]
  },
  {
   "cell_type": "markdown",
   "metadata": {},
   "source": [
    "## 5. 모든 메모리 버퍼를 비우라\n",
    "메모리 누수를 피하기 위해 메모리 버퍼를 비우는 것을 잊지 마라!"
   ]
  },
  {
   "cell_type": "code",
   "execution_count": 11,
   "metadata": {},
   "outputs": [],
   "source": [
    "del input_buffer, output_buffer"
   ]
  },
  {
   "cell_type": "markdown",
   "metadata": {},
   "source": [
    "## 부록\n",
    "\n",
    "## AXI DMA pdf\n",
    "\n",
    "PDF는 Jupyter 노트북에서 링크되거나 내장 될 수 있다. AXI DMA 설명서의 pdf는 아래 노트북에 내장되어 있다."
   ]
  },
  {
   "cell_type": "code",
   "execution_count": 12,
   "metadata": {},
   "outputs": [
    {
     "data": {
      "text/html": [
       "\n",
       "        <iframe\n",
       "            width=\"800\"\n",
       "            height=\"800\"\n",
       "            src=\"pg021_axi_dma.pdf\"\n",
       "            frameborder=\"0\"\n",
       "            allowfullscreen\n",
       "        ></iframe>\n",
       "        "
      ],
      "text/plain": [
       "<IPython.lib.display.IFrame at 0xaeae2a50>"
      ]
     },
     "execution_count": 12,
     "metadata": {},
     "output_type": "execute_result"
    }
   ],
   "source": [
    "from IPython.display import IFrame\n",
    "IFrame(\"pg021_axi_dma.pdf\", width=800, height=800)"
   ]
  }
 ],
 "metadata": {
  "kernelspec": {
   "display_name": "Python 3",
   "language": "python",
   "name": "python3"
  },
  "language_info": {
   "codemirror_mode": {
    "name": "ipython",
    "version": 3
   },
   "file_extension": ".py",
   "mimetype": "text/x-python",
   "name": "python",
   "nbconvert_exporter": "python",
   "pygments_lexer": "ipython3",
   "version": "3.6.5"
  }
 },
 "nbformat": 4,
 "nbformat_minor": 2
}
